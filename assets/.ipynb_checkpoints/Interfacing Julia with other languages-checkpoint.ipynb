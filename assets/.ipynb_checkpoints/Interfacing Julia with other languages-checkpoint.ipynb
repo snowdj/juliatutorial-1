{
 "cells": [
  {
   "cell_type": "markdown",
   "metadata": {},
   "source": [
    "# Interfacing Julia with other languages"
   ]
  },
  {
   "cell_type": "markdown",
   "metadata": {},
   "source": [
    "### C and Fortran"
   ]
  },
  {
   "cell_type": "code",
   "execution_count": 7,
   "metadata": {},
   "outputs": [
    {
     "data": {
      "text/plain": [
       "12238390"
      ]
     },
     "execution_count": 7,
     "metadata": {},
     "output_type": "execute_result"
    }
   ],
   "source": [
    "# Call C and FORTRAL call directly..\n",
    "t = ccall( (:clock, \"libc.so.6\"), Int32, ())"
   ]
  },
  {
   "cell_type": "code",
   "execution_count": 5,
   "metadata": {},
   "outputs": [
    {
     "data": {
      "text/plain": [
       "\"/home/lobianco/git/juliatutorial/assets/libmylib.so\""
      ]
     },
     "execution_count": 5,
     "metadata": {},
     "output_type": "execute_result"
    }
   ],
   "source": [
    "# mylib.h:\n",
    "#=\n",
    "#ifndef _MYLIB_H_\n",
    "#define _MYLIB_H_\n",
    "\n",
    "extern float iplustwo (float i);\n",
    "=#\n",
    "\n",
    "# mylib.c:\n",
    "#=\n",
    "float\n",
    "iplustwo (float i){\n",
    " return i+2;\n",
    "}\n",
    "=#\n",
    "\n",
    "# compiled with:\n",
    "# gcc -o mylib.o -c mylib.c\n",
    "# gcc -shared -o libmylib.so mylib.o -lm -fPIC\n",
    "\n",
    "i = 2\n",
    "const mylib = joinpath(@__DIR__, \"libmylib.so\")"
   ]
  },
  {
   "cell_type": "code",
   "execution_count": 6,
   "metadata": {},
   "outputs": [
    {
     "data": {
      "text/plain": [
       "4.0f0"
      ]
     },
     "execution_count": 6,
     "metadata": {},
     "output_type": "execute_result"
    }
   ],
   "source": [
    "j = ccall((:iplustwo, mylib), Float32, (Float32,), i)"
   ]
  },
  {
   "cell_type": "markdown",
   "metadata": {},
   "source": [
    "### C++\n",
    " - use the [Cxx](https://github.com/Keno/Cxx.jl) package"
   ]
  },
  {
   "cell_type": "markdown",
   "metadata": {},
   "source": [
    "### Python\n",
    " - [PyCall](https://github.com/JuliaPy/PyCall.jl), a \"relatively\" low level library, allows to call any Python library\n",
    " - this in turn has been used to bild wrappers for all the most important Python libraries"
   ]
  },
  {
   "cell_type": "code",
   "execution_count": 21,
   "metadata": {},
   "outputs": [
    {
     "data": {
      "text/html": [
       "<table class=\"data-frame\"><thead><tr><th></th><th>a</th><th>b</th><th>c</th></tr><tr><th></th><th>Int64</th><th>Int64</th><th>Int64</th></tr></thead><tbody><p>2 rows × 3 columns</p><tr><th>1</th><td>21</td><td>22</td><td>23</td></tr><tr><th>2</th><td>31</td><td>32</td><td>33</td></tr></tbody></table>"
      ],
      "text/latex": [
       "\\begin{tabular}{r|ccc}\n",
       "\t& a & b & c\\\\\n",
       "\t\\hline\n",
       "\t& Int64 & Int64 & Int64\\\\\n",
       "\t\\hline\n",
       "\t1 & 21 & 22 & 23 \\\\\n",
       "\t2 & 31 & 32 & 33 \\\\\n",
       "\\end{tabular}\n"
      ],
      "text/plain": [
       "2×3 DataFrame\n",
       "│ Row │ a     │ b     │ c     │\n",
       "│     │ \u001b[90mInt64\u001b[39m │ \u001b[90mInt64\u001b[39m │ \u001b[90mInt64\u001b[39m │\n",
       "├─────┼───────┼───────┼───────┤\n",
       "│ 1   │ 21    │ 22    │ 23    │\n",
       "│ 2   │ 31    │ 32    │ 33    │"
      ]
     },
     "execution_count": 21,
     "metadata": {},
     "output_type": "execute_result"
    }
   ],
   "source": [
    "# e.g.PyCall is used in the OdsIO package to wrapper the Python ezodf library to import/export\n",
    "# from/to OpenOffice/LibreOffice spreadsheets:\n",
    "\n",
    "# Pkg.add(\"OdsIO\") # Do this only once: package manager integrated in the language\n",
    "\n",
    "using OdsIO\n",
    "df = ods_read(\"spreadsheet.ods\";sheetName=\"Sheet2\",retType=\"DataFrame\")"
   ]
  },
  {
   "cell_type": "code",
   "execution_count": 12,
   "metadata": {},
   "outputs": [
    {
     "data": {
      "text/plain": [
       "ods_readall"
      ]
     },
     "execution_count": 12,
     "metadata": {},
     "output_type": "execute_result"
    }
   ],
   "source": [
    "# This is the actual code form the Package OdsIO\n",
    "\n",
    "\n",
    "export ods_readall, ods_read, odsio_test, odsio_autotest\n",
    "using PyCall\n",
    "using DataFrames\n",
    "\n",
    "\"\"\"\n",
    "    ods_readall(filename; <keyword arguments>)\n",
    "Return a dictionary of tables|dictionaries|dataframes indexed by position or name in the original OpenDocument Spreadsheet (.ods) file.\n",
    "# Arguments\n",
    "* `sheetsNames=[]`: the list of sheet names from which to import data.\n",
    "* `sheetsPos=[]`: the list of sheet positions (starting from 1) from which to import data.\n",
    "* `ranges=[]`: a list of pair of touples defining the ranges in each sheet from which to import data, in the format ((tlr,tlc),(brr,brc))\n",
    "* `innerType=\"Matrix\"`: the type of the inner container returned. Either \"Matrix\", \"Dict\" or \"DataFrame\"\n",
    "# Notes\n",
    "* sheetsNames and sheetsPos can not be given together\n",
    "* ranges is defined using integer positions for both rows and columns\n",
    "* individual dictionaries or dataframes are keyed by the values of the cells in the first row specified in the range, or first row if `range` is not given\n",
    "* innerType=\"Matrix\", differently from innerType=\"Dict\", preserves original column order, it is faster and require less memory\n",
    "* using innerType=\"DataFrame\" also preserves original column order and try to auto-convert column types (working for Int64, Float64, String, in that order)\n",
    "# Examples\n",
    "```julia\n",
    "julia> outDic  = ods_readall(\"spreadsheet.ods\";sheetsPos=[1,3],ranges=[((1,1),(3,3)),((2,2),(6,4))], innerType=\"Dict\")\n",
    "Dict{Any,Any} with 2 entries:\n",
    "  3 => Dict{Any,Any}(Pair{Any,Any}(\"c\",Any[33.0,43.0,53.0,63.0]),Pair{Any,Any}(\"b\",Any[32.0,42.0,52.0,62.0]),Pair{Any,Any}(\"d\",Any[34.0,44.0,54.…\n",
    "  1 => Dict{Any,Any}(Pair{Any,Any}(\"c\",Any[23.0,33.0]),Pair{Any,Any}(\"b\",Any[22.0,32.0]),Pair{Any,Any}(\"a\",Any[21.0,31.0]))\n",
    "```\n",
    "\"\"\"\n",
    "function ods_readall(filename::AbstractString;sheetsNames::AbstractVector=String[],sheetsPos::AbstractVector=Int64[],ranges::AbstractVector=Tuple{Tuple{Int64,Int64},Tuple{Int64,Int64}}[],innerType::AbstractString=\"Matrix\")\n",
    "\n",
    "    #try\n",
    "    #   @pyimport ezodf\n",
    "    #catch\n",
    "    #  error(\"The OdsIO module is correctly installed, but your python installation is missing the 'ezodf' module.\")\n",
    "    #end\n",
    "    #@pyimport ezodf\n",
    "    toReturn = Dict() # The outer container is always a dictionary\n",
    "    try\n",
    "      global doc = ezodf.opendoc(filename)\n",
    "    catch\n",
    "      error(\"I can not open for reading file $filename at $(pwd())\")\n",
    "    end\n",
    "\n",
    "    nsheets = length(doc.sheets)\n",
    "    toReturnKeyType = \"name\"\n",
    "    if !isempty(sheetsNames) && !isempty(sheetsPos)\n",
    "        error(\"Do not use sheetNames and sheetPos together\")\n",
    "    end\n",
    "    if !isempty(sheetsPos)\n",
    "        toReturnKeyType = \"pos\"\n",
    "    end\n",
    "    sheetsCounter=0\n",
    "\n",
    "    for (is, sheet) in enumerate(doc.sheets)\n",
    "        if is in sheetsPos || sheet.name in sheetsNames || (isempty(sheetsNames) && isempty(sheetsPos))\n",
    "            sheetsCounter += 1\n",
    "            r_min = 1\n",
    "            r_max = sheet.nrows()\n",
    "            c_min = 1\n",
    "            c_max = sheet.ncols()\n",
    "            try\n",
    "                if !isempty(ranges) && !isempty(ranges[sheetsCounter])\n",
    "                    r_min::Int64     = ranges[sheetsCounter][1][1]\n",
    "                    r_max::Int64     = min(ranges[sheetsCounter][2][1],sheet.nrows())\n",
    "                    c_min::Int64     = ranges[sheetsCounter][1][2]\n",
    "                    c_max::Int64     = min(ranges[sheetsCounter][2][2],sheet.ncols())\n",
    "                else\n",
    "                    # ezodf module include also empty final rows/cols in nrows()/ncols()\n",
    "                    # the following code adjust r_max and c_max as to exclude empty final rows/cols if\n",
    "                    # these have not been manually specified (i.e., no corrections if manually specified)\n",
    "\n",
    "                    # Checking empty final rows..\n",
    "                    emptyFinalRows = 0\n",
    "                    for i = r_max-1:-1:0\n",
    "                        row = sheet.row(i)\n",
    "                        allEmpty = true\n",
    "                        for (j, cell) in enumerate(row)\n",
    "                            if cell.value != nothing\n",
    "                                allEmpty = false\n",
    "                                break\n",
    "                            end\n",
    "                        end\n",
    "                        if(!allEmpty)\n",
    "                            break\n",
    "                        else\n",
    "                            emptyFinalRows += 1\n",
    "                        end\n",
    "                    end\n",
    "                    r_max -= emptyFinalRows\n",
    "                    # Checking empty final cols..\n",
    "                    emptyFinalCols = 0\n",
    "                    for i = c_max-1:-1:0\n",
    "                        col = sheet.column(i)\n",
    "                        allEmpty = true\n",
    "                        for (j, cell) in enumerate(col)\n",
    "                            if cell.value != nothing\n",
    "                                allEmpty = false\n",
    "                                break\n",
    "                            end\n",
    "                        end\n",
    "                        if(!allEmpty)\n",
    "                            break\n",
    "                        else\n",
    "                            emptyFinalCols += 1\n",
    "                        end\n",
    "                    end\n",
    "                    c_max -= emptyFinalCols\n",
    "                end\n",
    "            catch\n",
    "                error(\"There is a problem with the range. Range should be defined as a list of pair of touples ((tlr,tlc),(brr,brc)) for each sheet to import, using integer positions.\" )\n",
    "            end\n",
    "            if (innerType==\"Matrix\" || innerType==\"Dict\" || innerType==\"DataFrame\" )\n",
    "                innerMatrix = Array{Any,2}(undef,r_max-r_min+1,c_max-c_min+1)\n",
    "                r::Int64=1\n",
    "                for (i::Int64, row) in enumerate(sheet.rows())\n",
    "                    if (i>=r_min && i <= r_max) # data row\n",
    "                        c::Int64=1\n",
    "                        for (j::Int64, cell) in enumerate(row)\n",
    "                            if (j>=c_min && j<=c_max)\n",
    "                                # Try saving the value as integer if that's actually possible\n",
    "                                if typeof(cell.value) <: Number\n",
    "                                    if isinteger(cell.value)\n",
    "                                        innerMatrix[[r],[c]] .= convert(Int64,cell.value)\n",
    "                                    else\n",
    "                                        innerMatrix[[r],[c]] .= cell.value\n",
    "                                    end\n",
    "                                else\n",
    "                                    innerMatrix[[r],[c]] .= cell.value\n",
    "                                end\n",
    "                                c = c+1\n",
    "                            end\n",
    "                        end\n",
    "                        r = r+1\n",
    "                    end\n",
    "                end\n",
    "                if innerType==\"Matrix\"\n",
    "                    toReturnKeyType == \"name\" ? toReturn[sheet.name] = innerMatrix : toReturn[is] = innerMatrix\n",
    "                elseif innerType == \"Dict\"\n",
    "                    toReturnKeyType == \"name\" ? toReturn[sheet.name] = Dict([(ch,innerMatrix[2:end,cix]) for (cix::Int64,ch) in enumerate(innerMatrix[1,:])]) : toReturn[is] = Dict([(ch,innerMatrix[2:end,cix]) for (cix,ch) in enumerate(innerMatrix[1,:])])\n",
    "                elseif innerType == \"DataFrame\"\n",
    "                    df = toDf!(innerMatrix)\n",
    "                    toReturnKeyType == \"name\" ? toReturn[sheet.name] =   df : toReturn[is] = df\n",
    "                end # innerType is really a df\n",
    "            else # end innerTpe is a Dict check\n",
    "                error(\"Only 'Matrix', 'Dict' or 'DataFrame' are supported as innerType/retType.'\")\n",
    "            end # end innerTpe is a Dict or Matrix check\n",
    "        end # end check is a sheet to retain\n",
    "    end # for each sheet\n",
    "    return toReturn\n",
    "end # end functionSS"
   ]
  },
  {
   "cell_type": "markdown",
   "metadata": {},
   "source": [
    "### R\n",
    "- use [RCall](https://github.com/JuliaInterop/RCall.jl)\n",
    "- widely used ([most asked julia-lang question in Stack Overflow](http://stackoverflow.com/questions/tagged/julia-lang?sort=votes))\n",
    "- the other way is also possible (use Julia in R). See the [JuliaCall](https://cran.r-project.org/web/packages/JuliaCall/index.html) R package."
   ]
  },
  {
   "cell_type": "code",
   "execution_count": 15,
   "metadata": {},
   "outputs": [
    {
     "data": {
      "text/plain": [
       "10-element Array{Float64,1}:\n",
       "  0.225645133910063   \n",
       "  0.715608408367434   \n",
       "  1.0158030914642286  \n",
       "  0.046508426558602885\n",
       " -1.3842807192731392  \n",
       "  0.9898471614641909  \n",
       "  1.2645930229178683  \n",
       " -0.1971853805486571  \n",
       "  0.726696607407927   \n",
       "  1.2017220894055294  "
      ]
     },
     "execution_count": 15,
     "metadata": {},
     "output_type": "execute_result"
    }
   ],
   "source": [
    "using RCall\n",
    "x = randn(10)"
   ]
  },
  {
   "cell_type": "code",
   "execution_count": 16,
   "metadata": {},
   "outputs": [
    {
     "data": {
      "text/plain": [
       "RObject{VecSxp}\n",
       "\n",
       "\tOne Sample t-test\n",
       "\n",
       "data:  `#JL`$x\n",
       "t = 1.7861, df = 9, p-value = 0.1077\n",
       "alternative hypothesis: true mean is not equal to 0\n",
       "95 percent confidence interval:\n",
       " -0.1227528  1.0437444\n",
       "sample estimates:\n",
       "mean of x \n",
       "0.4604958 \n",
       "\n"
      ]
     },
     "execution_count": 16,
     "metadata": {},
     "output_type": "execute_result"
    }
   ],
   "source": [
    "R\"t.test($x)\""
   ]
  },
  {
   "cell_type": "code",
   "execution_count": 20,
   "metadata": {},
   "outputs": [
    {
     "data": {
      "text/html": [
       "<table class=\"data-frame\"><thead><tr><th></th><th>Model</th><th>MPG</th><th>Cyl</th><th>Disp</th><th>HP</th><th>DRat</th><th>WT</th><th>QSec</th><th>VS</th></tr><tr><th></th><th>String</th><th>Float64</th><th>Int64</th><th>Float64</th><th>Int64</th><th>Float64</th><th>Float64</th><th>Float64</th><th>Int64</th></tr></thead><tbody><p>6 rows × 12 columns (omitted printing of 3 columns)</p><tr><th>1</th><td>Mazda RX4</td><td>21.0</td><td>6</td><td>160.0</td><td>110</td><td>3.9</td><td>2.62</td><td>16.46</td><td>0</td></tr><tr><th>2</th><td>Mazda RX4 Wag</td><td>21.0</td><td>6</td><td>160.0</td><td>110</td><td>3.9</td><td>2.875</td><td>17.02</td><td>0</td></tr><tr><th>3</th><td>Datsun 710</td><td>22.8</td><td>4</td><td>108.0</td><td>93</td><td>3.85</td><td>2.32</td><td>18.61</td><td>1</td></tr><tr><th>4</th><td>Hornet 4 Drive</td><td>21.4</td><td>6</td><td>258.0</td><td>110</td><td>3.08</td><td>3.215</td><td>19.44</td><td>1</td></tr><tr><th>5</th><td>Hornet Sportabout</td><td>18.7</td><td>8</td><td>360.0</td><td>175</td><td>3.15</td><td>3.44</td><td>17.02</td><td>0</td></tr><tr><th>6</th><td>Valiant</td><td>18.1</td><td>6</td><td>225.0</td><td>105</td><td>2.76</td><td>3.46</td><td>20.22</td><td>1</td></tr></tbody></table>"
      ],
      "text/latex": [
       "\\begin{tabular}{r|cccccccccc}\n",
       "\t& Model & MPG & Cyl & Disp & HP & DRat & WT & QSec & VS & \\\\\n",
       "\t\\hline\n",
       "\t& String & Float64 & Int64 & Float64 & Int64 & Float64 & Float64 & Float64 & Int64 & \\\\\n",
       "\t\\hline\n",
       "\t1 & Mazda RX4 & 21.0 & 6 & 160.0 & 110 & 3.9 & 2.62 & 16.46 & 0 & $\\dots$ \\\\\n",
       "\t2 & Mazda RX4 Wag & 21.0 & 6 & 160.0 & 110 & 3.9 & 2.875 & 17.02 & 0 & $\\dots$ \\\\\n",
       "\t3 & Datsun 710 & 22.8 & 4 & 108.0 & 93 & 3.85 & 2.32 & 18.61 & 1 & $\\dots$ \\\\\n",
       "\t4 & Hornet 4 Drive & 21.4 & 6 & 258.0 & 110 & 3.08 & 3.215 & 19.44 & 1 & $\\dots$ \\\\\n",
       "\t5 & Hornet Sportabout & 18.7 & 8 & 360.0 & 175 & 3.15 & 3.44 & 17.02 & 0 & $\\dots$ \\\\\n",
       "\t6 & Valiant & 18.1 & 6 & 225.0 & 105 & 2.76 & 3.46 & 20.22 & 1 & $\\dots$ \\\\\n",
       "\\end{tabular}\n"
      ],
      "text/plain": [
       "6×12 DataFrame. Omitted printing of 6 columns\n",
       "│ Row │ Model             │ MPG     │ Cyl   │ Disp    │ HP    │ DRat    │\n",
       "│     │ \u001b[90mString\u001b[39m            │ \u001b[90mFloat64\u001b[39m │ \u001b[90mInt64\u001b[39m │ \u001b[90mFloat64\u001b[39m │ \u001b[90mInt64\u001b[39m │ \u001b[90mFloat64\u001b[39m │\n",
       "├─────┼───────────────────┼─────────┼───────┼─────────┼───────┼─────────┤\n",
       "│ 1   │ Mazda RX4         │ 21.0    │ 6     │ 160.0   │ 110   │ 3.9     │\n",
       "│ 2   │ Mazda RX4 Wag     │ 21.0    │ 6     │ 160.0   │ 110   │ 3.9     │\n",
       "│ 3   │ Datsun 710        │ 22.8    │ 4     │ 108.0   │ 93    │ 3.85    │\n",
       "│ 4   │ Hornet 4 Drive    │ 21.4    │ 6     │ 258.0   │ 110   │ 3.08    │\n",
       "│ 5   │ Hornet Sportabout │ 18.7    │ 8     │ 360.0   │ 175   │ 3.15    │\n",
       "│ 6   │ Valiant           │ 18.1    │ 6     │ 225.0   │ 105   │ 2.76    │"
      ]
     },
     "execution_count": 20,
     "metadata": {},
     "output_type": "execute_result"
    }
   ],
   "source": [
    "using RCall\n",
    "using RDatasets\n",
    "mtcars = dataset(\"datasets\",\"mtcars\")\n",
    "first(mtcars,6)\n"
   ]
  },
  {
   "cell_type": "code",
   "execution_count": 18,
   "metadata": {},
   "outputs": [
    {
     "data": {
      "image/png": "[encoded data removed]"
     },
     "metadata": {},
     "output_type": "display_data"
    },
    {
     "data": {
      "text/plain": [
       "RObject{VecSxp}\n"
      ]
     },
     "execution_count": 18,
     "metadata": {},
     "output_type": "execute_result"
    }
   ],
   "source": [
    "R\"library(ggplot2)\"\n",
    "R\"ggplot($mtcars,aes(x=WT,y=MPG))+geom_point()\"\n",
    "# NB: There exists native plot implementations, some with the same API of ggplot"
   ]
  },
  {
   "cell_type": "code",
   "execution_count": null,
   "metadata": {
    "collapsed": true
   },
   "outputs": [],
   "source": []
  }
 ],
 "metadata": {
  "kernelspec": {
   "display_name": "Julia 1.2.0",
   "language": "julia",
   "name": "julia-1.2"
  },
  "language_info": {
   "file_extension": ".jl",
   "mimetype": "application/julia",
   "name": "julia",
   "version": "1.2.0"
  }
 },
 "nbformat": 4,
 "nbformat_minor": 1
}
