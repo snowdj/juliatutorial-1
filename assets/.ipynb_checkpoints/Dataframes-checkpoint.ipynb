{
 "cells": [
  {
   "cell_type": "markdown",
   "metadata": {},
   "source": [
    "# Dataframes"
   ]
  },
  {
   "cell_type": "markdown",
   "metadata": {},
   "source": [
    "**New: updated to DataFrames 0.19**"
   ]
  },
  {
   "cell_type": "code",
   "execution_count": 32,
   "metadata": {},
   "outputs": [],
   "source": [
    "using DataFrames, Plots, StatsPlots, DataFramesMeta"
   ]
  },
  {
   "cell_type": "code",
   "execution_count": 33,
   "metadata": {},
   "outputs": [
    {
     "data": {
      "text/html": [
       "<table class=\"data-frame\"><thead><tr><th></th><th>product</th><th>year</th><th>production</th><th>consumption</th></tr><tr><th></th><th>String</th><th>Int64</th><th>Int64</th><th>Int64</th></tr></thead><tbody><p>8 rows × 4 columns</p><tr><th>1</th><td>hardWSawnW</td><td>2010</td><td>120</td><td>70</td></tr><tr><th>2</th><td>hardWSawnW</td><td>2011</td><td>150</td><td>90</td></tr><tr><th>3</th><td>hardWSawnW</td><td>2012</td><td>170</td><td>100</td></tr><tr><th>4</th><td>hardWSawnW</td><td>2013</td><td>160</td><td>95</td></tr><tr><th>5</th><td>softWSawnW</td><td>2010</td><td>100</td><td>80</td></tr><tr><th>6</th><td>softWSawnW</td><td>2011</td><td>130</td><td>95</td></tr><tr><th>7</th><td>softWSawnW</td><td>2012</td><td>165</td><td>110</td></tr><tr><th>8</th><td>softWSawnW</td><td>2013</td><td>158</td><td>120</td></tr></tbody></table>"
      ],
      "text/latex": [
       "\\begin{tabular}{r|cccc}\n",
       "\t& product & year & production & consumption\\\\\n",
       "\t\\hline\n",
       "\t& String & Int64 & Int64 & Int64\\\\\n",
       "\t\\hline\n",
       "\t1 & hardWSawnW & 2010 & 120 & 70 \\\\\n",
       "\t2 & hardWSawnW & 2011 & 150 & 90 \\\\\n",
       "\t3 & hardWSawnW & 2012 & 170 & 100 \\\\\n",
       "\t4 & hardWSawnW & 2013 & 160 & 95 \\\\\n",
       "\t5 & softWSawnW & 2010 & 100 & 80 \\\\\n",
       "\t6 & softWSawnW & 2011 & 130 & 95 \\\\\n",
       "\t7 & softWSawnW & 2012 & 165 & 110 \\\\\n",
       "\t8 & softWSawnW & 2013 & 158 & 120 \\\\\n",
       "\\end{tabular}\n"
      ],
      "text/plain": [
       "8×4 DataFrame\n",
       "│ Row │ product    │ year  │ production │ consumption │\n",
       "│     │ \u001b[90mString\u001b[39m     │ \u001b[90mInt64\u001b[39m │ \u001b[90mInt64\u001b[39m      │ \u001b[90mInt64\u001b[39m       │\n",
       "├─────┼────────────┼───────┼────────────┼─────────────┤\n",
       "│ 1   │ hardWSawnW │ 2010  │ 120        │ 70          │\n",
       "│ 2   │ hardWSawnW │ 2011  │ 150        │ 90          │\n",
       "│ 3   │ hardWSawnW │ 2012  │ 170        │ 100         │\n",
       "│ 4   │ hardWSawnW │ 2013  │ 160        │ 95          │\n",
       "│ 5   │ softWSawnW │ 2010  │ 100        │ 80          │\n",
       "│ 6   │ softWSawnW │ 2011  │ 130        │ 95          │\n",
       "│ 7   │ softWSawnW │ 2012  │ 165        │ 110         │\n",
       "│ 8   │ softWSawnW │ 2013  │ 158        │ 120         │"
      ]
     },
     "execution_count": 33,
     "metadata": {},
     "output_type": "execute_result"
    }
   ],
   "source": [
    "df = DataFrame(\n",
    "  product     = [\"hardWSawnW\",\"hardWSawnW\",\"hardWSawnW\",\"hardWSawnW\",\"softWSawnW\",\"softWSawnW\",\"softWSawnW\",\"softWSawnW\"],\n",
    "  year        = [2010,2011,2012,2013,2010,2011,2012,2013],\n",
    "  production  = [120,150,170,160,100,130,165,158],\n",
    "  consumption = [70,90,100,95, 80,95,110,120]\n",
    ")\n",
    "# or myData = CSV.read(\"mydatafile.csv\", separator = ';')"
   ]
  },
  {
   "cell_type": "markdown",
   "metadata": {},
   "source": [
    "## Get insights about the data:"
   ]
  },
  {
   "cell_type": "code",
   "execution_count": 34,
   "metadata": {},
   "outputs": [
    {
     "data": {
      "text/html": [
       "<table class=\"data-frame\"><thead><tr><th></th><th>variable</th><th>mean</th><th>min</th><th>median</th><th>max</th><th>nunique</th><th>nmissing</th><th>eltype</th></tr><tr><th></th><th>Symbol</th><th>Union…</th><th>Any</th><th>Union…</th><th>Any</th><th>Union…</th><th>Nothing</th><th>DataType</th></tr></thead><tbody><p>4 rows × 8 columns</p><tr><th>1</th><td>product</td><td></td><td>hardWSawnW</td><td></td><td>softWSawnW</td><td>2</td><td></td><td>String</td></tr><tr><th>2</th><td>year</td><td>2011.5</td><td>2010</td><td>2011.5</td><td>2013</td><td></td><td></td><td>Int64</td></tr><tr><th>3</th><td>production</td><td>144.125</td><td>100</td><td>154.0</td><td>170</td><td></td><td></td><td>Int64</td></tr><tr><th>4</th><td>consumption</td><td>95.0</td><td>70</td><td>95.0</td><td>120</td><td></td><td></td><td>Int64</td></tr></tbody></table>"
      ],
      "text/latex": [
       "\\begin{tabular}{r|cccccccc}\n",
       "\t& variable & mean & min & median & max & nunique & nmissing & eltype\\\\\n",
       "\t\\hline\n",
       "\t& Symbol & Union… & Any & Union… & Any & Union… & Nothing & DataType\\\\\n",
       "\t\\hline\n",
       "\t1 & product &  & hardWSawnW &  & softWSawnW & 2 &  & String \\\\\n",
       "\t2 & year & 2011.5 & 2010 & 2011.5 & 2013 &  &  & Int64 \\\\\n",
       "\t3 & production & 144.125 & 100 & 154.0 & 170 &  &  & Int64 \\\\\n",
       "\t4 & consumption & 95.0 & 70 & 95.0 & 120 &  &  & Int64 \\\\\n",
       "\\end{tabular}\n"
      ],
      "text/plain": [
       "4×8 DataFrame. Omitted printing of 2 columns\n",
       "│ Row │ variable    │ mean    │ min        │ median │ max        │ nunique │\n",
       "│     │ \u001b[90mSymbol\u001b[39m      │ \u001b[90mUnion…\u001b[39m  │ \u001b[90mAny\u001b[39m        │ \u001b[90mUnion…\u001b[39m │ \u001b[90mAny\u001b[39m        │ \u001b[90mUnion…\u001b[39m  │\n",
       "├─────┼─────────────┼─────────┼────────────┼────────┼────────────┼─────────┤\n",
       "│ 1   │ product     │         │ hardWSawnW │        │ softWSawnW │ 2       │\n",
       "│ 2   │ year        │ 2011.5  │ 2010       │ 2011.5 │ 2013       │         │\n",
       "│ 3   │ production  │ 144.125 │ 100        │ 154.0  │ 170        │         │\n",
       "│ 4   │ consumption │ 95.0    │ 70         │ 95.0   │ 120        │         │"
      ]
     },
     "execution_count": 34,
     "metadata": {},
     "output_type": "execute_result"
    }
   ],
   "source": [
    "describe(df)"
   ]
  },
  {
   "cell_type": "code",
   "execution_count": 35,
   "metadata": {},
   "outputs": [
    {
     "data": {
      "text/plain": [
       "1×2 Array{Symbol,2}:\n",
       " :green  :orange"
      ]
     },
     "execution_count": 35,
     "metadata": {},
     "output_type": "execute_result"
    }
   ],
   "source": [
    "# plot multiple groups of series\n",
    "mycolours = [:green :orange] # note that the serie is piled up alphabetically"
   ]
  },
  {
   "cell_type": "code",
   "execution_count": 36,
   "metadata": {},
   "outputs": [
    {
     "data": {
      "image/svg+xml": [
       "<?xml version=\"1.0\" encoding=\"utf-8\"?>\n",
       "<svg xmlns=\"http://www.w3.org/2000/svg\" xmlns:xlink=\"http://www.w3.org/1999/xlink\" width=\"600\" height=\"400\" viewBox=\"0 0 2400 1600\">\n",
       "<defs>\n",
       "  <clipPath id=\"clip2300\">\n",
       "    <rect x=\"0\" y=\"0\" width=\"2400\" height=\"1600\"/>\n",
       "  </clipPath>\n",
       "</defs>\n",
       "<path clip-path=\"url(#clip2300)\" d=\"\n",
       "M0 1600 L2400 1600 L2400 0 L0 0  Z\n",
       "  \" fill=\"#ffffff\" fill-rule=\"evenodd\" fill-opacity=\"1\"/>\n",
       "<defs>\n",
       "  <clipPath id=\"clip2301\">\n",
       "    <rect x=\"480\" y=\"0\" width=\"1681\" height=\"1600\"/>\n",
       "  </clipPath>\n",
       "</defs>\n",
       "<path clip-path=\"url(#clip2300)\" d=\"\n",
       "M167.279 1487.47 L2352.76 1487.47 L2352.76 47.2441 L167.279 47.2441  Z\n",
       "  \" fill=\"#ffffff\" fill-rule=\"evenodd\" fill-opacity=\"1\"/>\n",
       "<defs>\n",
       "  <clipPath id=\"clip2302\">\n",
       "    <rect x=\"167\" y=\"47\" width=\"2186\" height=\"1441\"/>\n",
       "  </clipPath>\n",
       "</defs>\n",
       "<polyline clip-path=\"url(#clip2302)\" style=\"stroke:#000000; stroke-width:2; stroke-opacity:0.1; fill:none\" points=\"\n",
       "  229.132,1487.47 229.132,47.2441 \n",
       "  \"/>\n",
       "<polyline clip-path=\"url(#clip2302)\" style=\"stroke:#000000; stroke-width:2; stroke-opacity:0.1; fill:none\" points=\"\n",
       "  229.132,1487.47 229.132,47.2441 \n",
       "  \"/>\n",
       "<polyline clip-path=\"url(#clip2302)\" style=\"stroke:#000000; stroke-width:2; stroke-opacity:0.1; fill:none\" points=\"\n",
       "  229.132,1487.47 229.132,47.2441 \n",
       "  \"/>\n",
       "<polyline clip-path=\"url(#clip2302)\" style=\"stroke:#000000; stroke-width:2; stroke-opacity:0.1; fill:none\" points=\"\n",
       "  229.132,1487.47 229.132,47.2441 \n",
       "  \"/>\n",
       "<polyline clip-path=\"url(#clip2302)\" style=\"stroke:#000000; stroke-width:2; stroke-opacity:0.1; fill:none\" points=\"\n",
       "  229.132,1487.47 229.132,47.2441 \n",
       "  \"/>\n",
       "<polyline clip-path=\"url(#clip2302)\" style=\"stroke:#000000; stroke-width:2; stroke-opacity:0.1; fill:none\" points=\"\n",
       "  229.132,1487.47 229.132,47.2441 \n",
       "  \"/>\n",
       "<polyline clip-path=\"url(#clip2302)\" style=\"stroke:#000000; stroke-width:2; stroke-opacity:0.1; fill:none\" points=\"\n",
       "  167.279,1446.71 2352.76,1446.71 \n",
       "  \"/>\n",
       "<polyline clip-path=\"url(#clip2302)\" style=\"stroke:#000000; stroke-width:2; stroke-opacity:0.1; fill:none\" points=\"\n",
       "  167.279,1058.51 2352.76,1058.51 \n",
       "  \"/>\n",
       "<polyline clip-path=\"url(#clip2302)\" style=\"stroke:#000000; stroke-width:2; stroke-opacity:0.1; fill:none\" points=\"\n",
       "  167.279,670.309 2352.76,670.309 \n",
       "  \"/>\n",
       "<polyline clip-path=\"url(#clip2302)\" style=\"stroke:#000000; stroke-width:2; stroke-opacity:0.1; fill:none\" points=\"\n",
       "  167.279,282.107 2352.76,282.107 \n",
       "  \"/>\n",
       "<polyline clip-path=\"url(#clip2300)\" style=\"stroke:#000000; stroke-width:4; stroke-opacity:1; fill:none\" points=\"\n",
       "  167.279,1487.47 2352.76,1487.47 \n",
       "  \"/>\n",
       "<polyline clip-path=\"url(#clip2300)\" style=\"stroke:#000000; stroke-width:4; stroke-opacity:1; fill:none\" points=\"\n",
       "  167.279,1487.47 167.279,47.2441 \n",
       "  \"/>\n",
       "<polyline clip-path=\"url(#clip2300)\" style=\"stroke:#000000; stroke-width:4; stroke-opacity:1; fill:none\" points=\"\n",
       "  229.132,1487.47 229.132,1465.87 \n",
       "  \"/>\n",
       "<polyline clip-path=\"url(#clip2300)\" style=\"stroke:#000000; stroke-width:4; stroke-opacity:1; fill:none\" points=\"\n",
       "  229.132,1487.47 229.132,1465.87 \n",
       "  \"/>\n",
       "<polyline clip-path=\"url(#clip2300)\" style=\"stroke:#000000; stroke-width:4; stroke-opacity:1; fill:none\" points=\"\n",
       "  229.132,1487.47 229.132,1465.87 \n",
       "  \"/>\n",
       "<polyline clip-path=\"url(#clip2300)\" style=\"stroke:#000000; stroke-width:4; stroke-opacity:1; fill:none\" points=\"\n",
       "  229.132,1487.47 229.132,1465.87 \n",
       "  \"/>\n",
       "<polyline clip-path=\"url(#clip2300)\" style=\"stroke:#000000; stroke-width:4; stroke-opacity:1; fill:none\" points=\"\n",
       "  229.132,1487.47 229.132,1465.87 \n",
       "  \"/>\n",
       "<polyline clip-path=\"url(#clip2300)\" style=\"stroke:#000000; stroke-width:4; stroke-opacity:1; fill:none\" points=\"\n",
       "  229.132,1487.47 229.132,1465.87 \n",
       "  \"/>\n",
       "<polyline clip-path=\"url(#clip2300)\" style=\"stroke:#000000; stroke-width:4; stroke-opacity:1; fill:none\" points=\"\n",
       "  167.279,1446.71 200.061,1446.71 \n",
       "  \"/>\n",
       "<polyline clip-path=\"url(#clip2300)\" style=\"stroke:#000000; stroke-width:4; stroke-opacity:1; fill:none\" points=\"\n",
       "  167.279,1058.51 200.061,1058.51 \n",
       "  \"/>\n",
       "<polyline clip-path=\"url(#clip2300)\" style=\"stroke:#000000; stroke-width:4; stroke-opacity:1; fill:none\" points=\"\n",
       "  167.279,670.309 200.061,670.309 \n",
       "  \"/>\n",
       "<polyline clip-path=\"url(#clip2300)\" style=\"stroke:#000000; stroke-width:4; stroke-opacity:1; fill:none\" points=\"\n",
       "  167.279,282.107 200.061,282.107 \n",
       "  \"/>\n",
       "<g clip-path=\"url(#clip2300)\">\n",
       "<text style=\"fill:#000000; fill-opacity:1; font-family:Arial,Helvetica Neue,Helvetica,sans-serif; font-size:48px; text-anchor:middle;\" transform=\"rotate(0, 229.132, 1541.47)\" x=\"229.132\" y=\"1541.47\">2010</text>\n",
       "</g>\n",
       "<g clip-path=\"url(#clip2300)\">\n",
       "<text style=\"fill:#000000; fill-opacity:1; font-family:Arial,Helvetica Neue,Helvetica,sans-serif; font-size:48px; text-anchor:middle;\" transform=\"rotate(0, 229.132, 1541.47)\" x=\"229.132\" y=\"1541.47\">2010</text>\n",
       "</g>\n",
       "<g clip-path=\"url(#clip2300)\">\n",
       "<text style=\"fill:#000000; fill-opacity:1; font-family:Arial,Helvetica Neue,Helvetica,sans-serif; font-size:48px; text-anchor:middle;\" transform=\"rotate(0, 229.132, 1541.47)\" x=\"229.132\" y=\"1541.47\">2010</text>\n",
       "</g>\n",
       "<g clip-path=\"url(#clip2300)\">\n",
       "<text style=\"fill:#000000; fill-opacity:1; font-family:Arial,Helvetica Neue,Helvetica,sans-serif; font-size:48px; text-anchor:middle;\" transform=\"rotate(0, 229.132, 1541.47)\" x=\"229.132\" y=\"1541.47\">2010</text>\n",
       "</g>\n",
       "<g clip-path=\"url(#clip2300)\">\n",
       "<text style=\"fill:#000000; fill-opacity:1; font-family:Arial,Helvetica Neue,Helvetica,sans-serif; font-size:48px; text-anchor:middle;\" transform=\"rotate(0, 229.132, 1541.47)\" x=\"229.132\" y=\"1541.47\">2010</text>\n",
       "</g>\n",
       "<g clip-path=\"url(#clip2300)\">\n",
       "<text style=\"fill:#000000; fill-opacity:1; font-family:Arial,Helvetica Neue,Helvetica,sans-serif; font-size:48px; text-anchor:middle;\" transform=\"rotate(0, 229.132, 1541.47)\" x=\"229.132\" y=\"1541.47\">2010</text>\n",
       "</g>\n",
       "<g clip-path=\"url(#clip2300)\">\n",
       "<text style=\"fill:#000000; fill-opacity:1; font-family:Arial,Helvetica Neue,Helvetica,sans-serif; font-size:48px; text-anchor:end;\" transform=\"rotate(0, 143.279, 1464.21)\" x=\"143.279\" y=\"1464.21\">100</text>\n",
       "</g>\n",
       "<g clip-path=\"url(#clip2300)\">\n",
       "<text style=\"fill:#000000; fill-opacity:1; font-family:Arial,Helvetica Neue,Helvetica,sans-serif; font-size:48px; text-anchor:end;\" transform=\"rotate(0, 143.279, 1076.01)\" x=\"143.279\" y=\"1076.01\">120</text>\n",
       "</g>\n",
       "<g clip-path=\"url(#clip2300)\">\n",
       "<text style=\"fill:#000000; fill-opacity:1; font-family:Arial,Helvetica Neue,Helvetica,sans-serif; font-size:48px; text-anchor:end;\" transform=\"rotate(0, 143.279, 687.809)\" x=\"143.279\" y=\"687.809\">140</text>\n",
       "</g>\n",
       "<g clip-path=\"url(#clip2300)\">\n",
       "<text style=\"fill:#000000; fill-opacity:1; font-family:Arial,Helvetica Neue,Helvetica,sans-serif; font-size:48px; text-anchor:end;\" transform=\"rotate(0, 143.279, 299.607)\" x=\"143.279\" y=\"299.607\">160</text>\n",
       "</g>\n",
       "<polyline clip-path=\"url(#clip2302)\" style=\"stroke:#008000; stroke-width:12; stroke-opacity:1; fill:none\" points=\"\n",
       "  229.132,1058.51 916.389,476.208 1603.65,88.0053 2290.9,282.107 \n",
       "  \"/>\n",
       "<polyline clip-path=\"url(#clip2302)\" style=\"stroke:#ffa500; stroke-width:12; stroke-opacity:1; fill:none\" points=\"\n",
       "  229.132,1446.71 916.389,864.41 1603.65,185.056 2290.9,320.927 \n",
       "  \"/>\n",
       "<path clip-path=\"url(#clip2300)\" d=\"\n",
       "M1436.2 312.204 L2280.76 312.204 L2280.76 130.764 L1436.2 130.764  Z\n",
       "  \" fill=\"#ffffff\" fill-rule=\"evenodd\" fill-opacity=\"1\"/>\n",
       "<polyline clip-path=\"url(#clip2300)\" style=\"stroke:#000000; stroke-width:4; stroke-opacity:1; fill:none\" points=\"\n",
       "  1436.2,312.204 2280.76,312.204 2280.76,130.764 1436.2,130.764 1436.2,312.204 \n",
       "  \"/>\n",
       "<polyline clip-path=\"url(#clip2300)\" style=\"stroke:#008000; stroke-width:12; stroke-opacity:1; fill:none\" points=\"\n",
       "  1460.2,191.244 1604.2,191.244 \n",
       "  \"/>\n",
       "<g clip-path=\"url(#clip2300)\">\n",
       "<text style=\"fill:#000000; fill-opacity:1; font-family:Arial,Helvetica Neue,Helvetica,sans-serif; font-size:48px; text-anchor:start;\" transform=\"rotate(0, 1628.2, 208.744)\" x=\"1628.2\" y=\"208.744\">Production of hardWSawnW</text>\n",
       "</g>\n",
       "<polyline clip-path=\"url(#clip2300)\" style=\"stroke:#ffa500; stroke-width:12; stroke-opacity:1; fill:none\" points=\"\n",
       "  1460.2,251.724 1604.2,251.724 \n",
       "  \"/>\n",
       "<g clip-path=\"url(#clip2300)\">\n",
       "<text style=\"fill:#000000; fill-opacity:1; font-family:Arial,Helvetica Neue,Helvetica,sans-serif; font-size:48px; text-anchor:start;\" transform=\"rotate(0, 1628.2, 269.224)\" x=\"1628.2\" y=\"269.224\">Production of softWSawnW</text>\n",
       "</g>\n",
       "</svg>\n"
      ]
     },
     "execution_count": 36,
     "metadata": {},
     "output_type": "execute_result"
    }
   ],
   "source": [
    "@df df plot(:year, :production, group=:product, linestyle = :solid, linewidth=3, label = reshape((\"Production of \" .* sort(unique(:product))),(1,:)), color=mycolours)"
   ]
  },
  {
   "cell_type": "code",
   "execution_count": 37,
   "metadata": {},
   "outputs": [
    {
     "data": {
      "image/svg+xml": [
       "<?xml version=\"1.0\" encoding=\"utf-8\"?>\n",
       "<svg xmlns=\"http://www.w3.org/2000/svg\" xmlns:xlink=\"http://www.w3.org/1999/xlink\" width=\"600\" height=\"400\" viewBox=\"0 0 2400 1600\">\n",
       "<defs>\n",
       "  <clipPath id=\"clip2700\">\n",
       "    <rect x=\"0\" y=\"0\" width=\"2400\" height=\"1600\"/>\n",
       "  </clipPath>\n",
       "</defs>\n",
       "<path clip-path=\"url(#clip2700)\" d=\"\n",
       "M0 1600 L2400 1600 L2400 0 L0 0  Z\n",
       "  \" fill=\"#ffffff\" fill-rule=\"evenodd\" fill-opacity=\"1\"/>\n",
       "<defs>\n",
       "  <clipPath id=\"clip2701\">\n",
       "    <rect x=\"480\" y=\"0\" width=\"1681\" height=\"1600\"/>\n",
       "  </clipPath>\n",
       "</defs>\n",
       "<path clip-path=\"url(#clip2700)\" d=\"\n",
       "M167.279 1487.47 L2352.76 1487.47 L2352.76 47.2441 L167.279 47.2441  Z\n",
       "  \" fill=\"#ffffff\" fill-rule=\"evenodd\" fill-opacity=\"1\"/>\n",
       "<defs>\n",
       "  <clipPath id=\"clip2702\">\n",
       "    <rect x=\"167\" y=\"47\" width=\"2186\" height=\"1441\"/>\n",
       "  </clipPath>\n",
       "</defs>\n",
       "<polyline clip-path=\"url(#clip2702)\" style=\"stroke:#000000; stroke-width:2; stroke-opacity:0.1; fill:none\" points=\"\n",
       "  229.132,1487.47 229.132,47.2441 \n",
       "  \"/>\n",
       "<polyline clip-path=\"url(#clip2702)\" style=\"stroke:#000000; stroke-width:2; stroke-opacity:0.1; fill:none\" points=\"\n",
       "  229.132,1487.47 229.132,47.2441 \n",
       "  \"/>\n",
       "<polyline clip-path=\"url(#clip2702)\" style=\"stroke:#000000; stroke-width:2; stroke-opacity:0.1; fill:none\" points=\"\n",
       "  229.132,1487.47 229.132,47.2441 \n",
       "  \"/>\n",
       "<polyline clip-path=\"url(#clip2702)\" style=\"stroke:#000000; stroke-width:2; stroke-opacity:0.1; fill:none\" points=\"\n",
       "  229.132,1487.47 229.132,47.2441 \n",
       "  \"/>\n",
       "<polyline clip-path=\"url(#clip2702)\" style=\"stroke:#000000; stroke-width:2; stroke-opacity:0.1; fill:none\" points=\"\n",
       "  229.132,1487.47 229.132,47.2441 \n",
       "  \"/>\n",
       "<polyline clip-path=\"url(#clip2702)\" style=\"stroke:#000000; stroke-width:2; stroke-opacity:0.1; fill:none\" points=\"\n",
       "  229.132,1487.47 229.132,47.2441 \n",
       "  \"/>\n",
       "<polyline clip-path=\"url(#clip2702)\" style=\"stroke:#000000; stroke-width:2; stroke-opacity:0.1; fill:none\" points=\"\n",
       "  167.279,1310.84 2352.76,1310.84 \n",
       "  \"/>\n",
       "<polyline clip-path=\"url(#clip2702)\" style=\"stroke:#000000; stroke-width:2; stroke-opacity:0.1; fill:none\" points=\"\n",
       "  167.279,1039.1 2352.76,1039.1 \n",
       "  \"/>\n",
       "<polyline clip-path=\"url(#clip2702)\" style=\"stroke:#000000; stroke-width:2; stroke-opacity:0.1; fill:none\" points=\"\n",
       "  167.279,767.359 2352.76,767.359 \n",
       "  \"/>\n",
       "<polyline clip-path=\"url(#clip2702)\" style=\"stroke:#000000; stroke-width:2; stroke-opacity:0.1; fill:none\" points=\"\n",
       "  167.279,495.618 2352.76,495.618 \n",
       "  \"/>\n",
       "<polyline clip-path=\"url(#clip2702)\" style=\"stroke:#000000; stroke-width:2; stroke-opacity:0.1; fill:none\" points=\"\n",
       "  167.279,223.876 2352.76,223.876 \n",
       "  \"/>\n",
       "<polyline clip-path=\"url(#clip2700)\" style=\"stroke:#000000; stroke-width:4; stroke-opacity:1; fill:none\" points=\"\n",
       "  167.279,1487.47 2352.76,1487.47 \n",
       "  \"/>\n",
       "<polyline clip-path=\"url(#clip2700)\" style=\"stroke:#000000; stroke-width:4; stroke-opacity:1; fill:none\" points=\"\n",
       "  167.279,1487.47 167.279,47.2441 \n",
       "  \"/>\n",
       "<polyline clip-path=\"url(#clip2700)\" style=\"stroke:#000000; stroke-width:4; stroke-opacity:1; fill:none\" points=\"\n",
       "  229.132,1487.47 229.132,1465.87 \n",
       "  \"/>\n",
       "<polyline clip-path=\"url(#clip2700)\" style=\"stroke:#000000; stroke-width:4; stroke-opacity:1; fill:none\" points=\"\n",
       "  229.132,1487.47 229.132,1465.87 \n",
       "  \"/>\n",
       "<polyline clip-path=\"url(#clip2700)\" style=\"stroke:#000000; stroke-width:4; stroke-opacity:1; fill:none\" points=\"\n",
       "  229.132,1487.47 229.132,1465.87 \n",
       "  \"/>\n",
       "<polyline clip-path=\"url(#clip2700)\" style=\"stroke:#000000; stroke-width:4; stroke-opacity:1; fill:none\" points=\"\n",
       "  229.132,1487.47 229.132,1465.87 \n",
       "  \"/>\n",
       "<polyline clip-path=\"url(#clip2700)\" style=\"stroke:#000000; stroke-width:4; stroke-opacity:1; fill:none\" points=\"\n",
       "  229.132,1487.47 229.132,1465.87 \n",
       "  \"/>\n",
       "<polyline clip-path=\"url(#clip2700)\" style=\"stroke:#000000; stroke-width:4; stroke-opacity:1; fill:none\" points=\"\n",
       "  229.132,1487.47 229.132,1465.87 \n",
       "  \"/>\n",
       "<polyline clip-path=\"url(#clip2700)\" style=\"stroke:#000000; stroke-width:4; stroke-opacity:1; fill:none\" points=\"\n",
       "  167.279,1310.84 200.061,1310.84 \n",
       "  \"/>\n",
       "<polyline clip-path=\"url(#clip2700)\" style=\"stroke:#000000; stroke-width:4; stroke-opacity:1; fill:none\" points=\"\n",
       "  167.279,1039.1 200.061,1039.1 \n",
       "  \"/>\n",
       "<polyline clip-path=\"url(#clip2700)\" style=\"stroke:#000000; stroke-width:4; stroke-opacity:1; fill:none\" points=\"\n",
       "  167.279,767.359 200.061,767.359 \n",
       "  \"/>\n",
       "<polyline clip-path=\"url(#clip2700)\" style=\"stroke:#000000; stroke-width:4; stroke-opacity:1; fill:none\" points=\"\n",
       "  167.279,495.618 200.061,495.618 \n",
       "  \"/>\n",
       "<polyline clip-path=\"url(#clip2700)\" style=\"stroke:#000000; stroke-width:4; stroke-opacity:1; fill:none\" points=\"\n",
       "  167.279,223.876 200.061,223.876 \n",
       "  \"/>\n",
       "<g clip-path=\"url(#clip2700)\">\n",
       "<text style=\"fill:#000000; fill-opacity:1; font-family:Arial,Helvetica Neue,Helvetica,sans-serif; font-size:48px; text-anchor:middle;\" transform=\"rotate(0, 229.132, 1541.47)\" x=\"229.132\" y=\"1541.47\">2010</text>\n",
       "</g>\n",
       "<g clip-path=\"url(#clip2700)\">\n",
       "<text style=\"fill:#000000; fill-opacity:1; font-family:Arial,Helvetica Neue,Helvetica,sans-serif; font-size:48px; text-anchor:middle;\" transform=\"rotate(0, 229.132, 1541.47)\" x=\"229.132\" y=\"1541.47\">2010</text>\n",
       "</g>\n",
       "<g clip-path=\"url(#clip2700)\">\n",
       "<text style=\"fill:#000000; fill-opacity:1; font-family:Arial,Helvetica Neue,Helvetica,sans-serif; font-size:48px; text-anchor:middle;\" transform=\"rotate(0, 229.132, 1541.47)\" x=\"229.132\" y=\"1541.47\">2010</text>\n",
       "</g>\n",
       "<g clip-path=\"url(#clip2700)\">\n",
       "<text style=\"fill:#000000; fill-opacity:1; font-family:Arial,Helvetica Neue,Helvetica,sans-serif; font-size:48px; text-anchor:middle;\" transform=\"rotate(0, 229.132, 1541.47)\" x=\"229.132\" y=\"1541.47\">2010</text>\n",
       "</g>\n",
       "<g clip-path=\"url(#clip2700)\">\n",
       "<text style=\"fill:#000000; fill-opacity:1; font-family:Arial,Helvetica Neue,Helvetica,sans-serif; font-size:48px; text-anchor:middle;\" transform=\"rotate(0, 229.132, 1541.47)\" x=\"229.132\" y=\"1541.47\">2010</text>\n",
       "</g>\n",
       "<g clip-path=\"url(#clip2700)\">\n",
       "<text style=\"fill:#000000; fill-opacity:1; font-family:Arial,Helvetica Neue,Helvetica,sans-serif; font-size:48px; text-anchor:middle;\" transform=\"rotate(0, 229.132, 1541.47)\" x=\"229.132\" y=\"1541.47\">2010</text>\n",
       "</g>\n",
       "<g clip-path=\"url(#clip2700)\">\n",
       "<text style=\"fill:#000000; fill-opacity:1; font-family:Arial,Helvetica Neue,Helvetica,sans-serif; font-size:48px; text-anchor:end;\" transform=\"rotate(0, 143.279, 1328.34)\" x=\"143.279\" y=\"1328.34\">80</text>\n",
       "</g>\n",
       "<g clip-path=\"url(#clip2700)\">\n",
       "<text style=\"fill:#000000; fill-opacity:1; font-family:Arial,Helvetica Neue,Helvetica,sans-serif; font-size:48px; text-anchor:end;\" transform=\"rotate(0, 143.279, 1056.6)\" x=\"143.279\" y=\"1056.6\">100</text>\n",
       "</g>\n",
       "<g clip-path=\"url(#clip2700)\">\n",
       "<text style=\"fill:#000000; fill-opacity:1; font-family:Arial,Helvetica Neue,Helvetica,sans-serif; font-size:48px; text-anchor:end;\" transform=\"rotate(0, 143.279, 784.859)\" x=\"143.279\" y=\"784.859\">120</text>\n",
       "</g>\n",
       "<g clip-path=\"url(#clip2700)\">\n",
       "<text style=\"fill:#000000; fill-opacity:1; font-family:Arial,Helvetica Neue,Helvetica,sans-serif; font-size:48px; text-anchor:end;\" transform=\"rotate(0, 143.279, 513.118)\" x=\"143.279\" y=\"513.118\">140</text>\n",
       "</g>\n",
       "<g clip-path=\"url(#clip2700)\">\n",
       "<text style=\"fill:#000000; fill-opacity:1; font-family:Arial,Helvetica Neue,Helvetica,sans-serif; font-size:48px; text-anchor:end;\" transform=\"rotate(0, 143.279, 241.376)\" x=\"143.279\" y=\"241.376\">160</text>\n",
       "</g>\n",
       "<polyline clip-path=\"url(#clip2702)\" style=\"stroke:#008000; stroke-width:12; stroke-opacity:1; fill:none\" points=\"\n",
       "  229.132,767.359 916.389,359.747 1603.65,88.0053 2290.9,223.876 \n",
       "  \"/>\n",
       "<polyline clip-path=\"url(#clip2702)\" style=\"stroke:#ffa500; stroke-width:12; stroke-opacity:1; fill:none\" points=\"\n",
       "  229.132,1039.1 916.389,631.489 1603.65,155.941 2290.9,251.05 \n",
       "  \"/>\n",
       "<polyline clip-path=\"url(#clip2702)\" style=\"stroke:#008000; stroke-width:12; stroke-opacity:1; fill:none\" stroke-dasharray=\"6, 12\" points=\"\n",
       "  229.132,1446.71 916.389,1174.97 1603.65,1039.1 2290.9,1107.04 \n",
       "  \"/>\n",
       "<polyline clip-path=\"url(#clip2702)\" style=\"stroke:#ffa500; stroke-width:12; stroke-opacity:1; fill:none\" stroke-dasharray=\"6, 12\" points=\"\n",
       "  229.132,1310.84 916.389,1107.04 1603.65,903.23 2290.9,767.359 \n",
       "  \"/>\n",
       "<path clip-path=\"url(#clip2700)\" d=\"\n",
       "M1382.72 433.164 L2280.76 433.164 L2280.76 130.764 L1382.72 130.764  Z\n",
       "  \" fill=\"#ffffff\" fill-rule=\"evenodd\" fill-opacity=\"1\"/>\n",
       "<polyline clip-path=\"url(#clip2700)\" style=\"stroke:#000000; stroke-width:4; stroke-opacity:1; fill:none\" points=\"\n",
       "  1382.72,433.164 2280.76,433.164 2280.76,130.764 1382.72,130.764 1382.72,433.164 \n",
       "  \"/>\n",
       "<polyline clip-path=\"url(#clip2700)\" style=\"stroke:#008000; stroke-width:12; stroke-opacity:1; fill:none\" points=\"\n",
       "  1406.72,191.244 1550.72,191.244 \n",
       "  \"/>\n",
       "<g clip-path=\"url(#clip2700)\">\n",
       "<text style=\"fill:#000000; fill-opacity:1; font-family:Arial,Helvetica Neue,Helvetica,sans-serif; font-size:48px; text-anchor:start;\" transform=\"rotate(0, 1574.72, 208.744)\" x=\"1574.72\" y=\"208.744\">Production of hardWSawnW</text>\n",
       "</g>\n",
       "<polyline clip-path=\"url(#clip2700)\" style=\"stroke:#ffa500; stroke-width:12; stroke-opacity:1; fill:none\" points=\"\n",
       "  1406.72,251.724 1550.72,251.724 \n",
       "  \"/>\n",
       "<g clip-path=\"url(#clip2700)\">\n",
       "<text style=\"fill:#000000; fill-opacity:1; font-family:Arial,Helvetica Neue,Helvetica,sans-serif; font-size:48px; text-anchor:start;\" transform=\"rotate(0, 1574.72, 269.224)\" x=\"1574.72\" y=\"269.224\">Production of softWSawnW</text>\n",
       "</g>\n",
       "<polyline clip-path=\"url(#clip2700)\" style=\"stroke:#008000; stroke-width:12; stroke-opacity:1; fill:none\" stroke-dasharray=\"6, 12\" points=\"\n",
       "  1406.72,312.204 1550.72,312.204 \n",
       "  \"/>\n",
       "<g clip-path=\"url(#clip2700)\">\n",
       "<text style=\"fill:#000000; fill-opacity:1; font-family:Arial,Helvetica Neue,Helvetica,sans-serif; font-size:48px; text-anchor:start;\" transform=\"rotate(0, 1574.72, 329.704)\" x=\"1574.72\" y=\"329.704\">Consumption of hardWSawnW</text>\n",
       "</g>\n",
       "<polyline clip-path=\"url(#clip2700)\" style=\"stroke:#ffa500; stroke-width:12; stroke-opacity:1; fill:none\" stroke-dasharray=\"6, 12\" points=\"\n",
       "  1406.72,372.684 1550.72,372.684 \n",
       "  \"/>\n",
       "<g clip-path=\"url(#clip2700)\">\n",
       "<text style=\"fill:#000000; fill-opacity:1; font-family:Arial,Helvetica Neue,Helvetica,sans-serif; font-size:48px; text-anchor:start;\" transform=\"rotate(0, 1574.72, 390.184)\" x=\"1574.72\" y=\"390.184\">Consumption of softWSawnW</text>\n",
       "</g>\n",
       "</svg>\n"
      ]
     },
     "execution_count": 37,
     "metadata": {},
     "output_type": "execute_result"
    }
   ],
   "source": [
    "@df df plot!(:year, :consumption, group=:product, linestyle = :dot, linewidth=3, label = reshape((\"Consumption of \" .* sort(unique(:product))),(1,:)), color=mycolours)"
   ]
  },
  {
   "cell_type": "markdown",
   "metadata": {},
   "source": [
    "## Edit/modify data"
   ]
  },
  {
   "cell_type": "code",
   "execution_count": 38,
   "metadata": {},
   "outputs": [
    {
     "data": {
      "text/html": [
       "<table class=\"data-frame\"><thead><tr><th></th><th>product</th><th>year</th><th>production</th><th>consumption</th></tr><tr><th></th><th>String</th><th>Int64</th><th>Int64</th><th>Int64</th></tr></thead><tbody><p>8 rows × 4 columns</p><tr><th>1</th><td>hardWSawnW</td><td>2010</td><td>200</td><td>70</td></tr><tr><th>2</th><td>hardWSawnW</td><td>2011</td><td>150</td><td>90</td></tr><tr><th>3</th><td>hardWSawnW</td><td>2012</td><td>170</td><td>100</td></tr><tr><th>4</th><td>hardWSawnW</td><td>2013</td><td>160</td><td>95</td></tr><tr><th>5</th><td>softWSawnW</td><td>2010</td><td>100</td><td>80</td></tr><tr><th>6</th><td>softWSawnW</td><td>2011</td><td>130</td><td>95</td></tr><tr><th>7</th><td>softWSawnW</td><td>2012</td><td>165</td><td>110</td></tr><tr><th>8</th><td>softWSawnW</td><td>2013</td><td>158</td><td>120</td></tr></tbody></table>"
      ],
      "text/latex": [
       "\\begin{tabular}{r|cccc}\n",
       "\t& product & year & production & consumption\\\\\n",
       "\t\\hline\n",
       "\t& String & Int64 & Int64 & Int64\\\\\n",
       "\t\\hline\n",
       "\t1 & hardWSawnW & 2010 & 200 & 70 \\\\\n",
       "\t2 & hardWSawnW & 2011 & 150 & 90 \\\\\n",
       "\t3 & hardWSawnW & 2012 & 170 & 100 \\\\\n",
       "\t4 & hardWSawnW & 2013 & 160 & 95 \\\\\n",
       "\t5 & softWSawnW & 2010 & 100 & 80 \\\\\n",
       "\t6 & softWSawnW & 2011 & 130 & 95 \\\\\n",
       "\t7 & softWSawnW & 2012 & 165 & 110 \\\\\n",
       "\t8 & softWSawnW & 2013 & 158 & 120 \\\\\n",
       "\\end{tabular}\n"
      ],
      "text/plain": [
       "8×4 DataFrame\n",
       "│ Row │ product    │ year  │ production │ consumption │\n",
       "│     │ \u001b[90mString\u001b[39m     │ \u001b[90mInt64\u001b[39m │ \u001b[90mInt64\u001b[39m      │ \u001b[90mInt64\u001b[39m       │\n",
       "├─────┼────────────┼───────┼────────────┼─────────────┤\n",
       "│ 1   │ hardWSawnW │ 2010  │ 200        │ 70          │\n",
       "│ 2   │ hardWSawnW │ 2011  │ 150        │ 90          │\n",
       "│ 3   │ hardWSawnW │ 2012  │ 170        │ 100         │\n",
       "│ 4   │ hardWSawnW │ 2013  │ 160        │ 95          │\n",
       "│ 5   │ softWSawnW │ 2010  │ 100        │ 80          │\n",
       "│ 6   │ softWSawnW │ 2011  │ 130        │ 95          │\n",
       "│ 7   │ softWSawnW │ 2012  │ 165        │ 110         │\n",
       "│ 8   │ softWSawnW │ 2013  │ 158        │ 120         │"
      ]
     },
     "execution_count": 38,
     "metadata": {},
     "output_type": "execute_result"
    }
   ],
   "source": [
    "# Change a single value\n",
    "df[1,:production] = 200\n",
    "df"
   ]
  },
  {
   "cell_type": "code",
   "execution_count": 39,
   "metadata": {},
   "outputs": [
    {
     "data": {
      "text/plain": [
       "1:8"
      ]
     },
     "execution_count": 39,
     "metadata": {},
     "output_type": "execute_result"
    }
   ],
   "source": [
    "# Add an \"id\" column (useful for unstacking)\n",
    "df.id = 1:size(df, 1) "
   ]
  },
  {
   "cell_type": "code",
   "execution_count": 40,
   "metadata": {},
   "outputs": [
    {
     "data": {
      "text/html": [
       "<table class=\"data-frame\"><thead><tr><th></th><th>product</th><th>year</th><th>production</th><th>consumption</th><th>id</th></tr><tr><th></th><th>String</th><th>Int64</th><th>Int64</th><th>Int64</th><th>Int64</th></tr></thead><tbody><p>4 rows × 5 columns</p><tr><th>1</th><td>hardWSawnW</td><td>2010</td><td>200</td><td>70</td><td>1</td></tr><tr><th>2</th><td>hardWSawnW</td><td>2011</td><td>150</td><td>90</td><td>2</td></tr><tr><th>3</th><td>hardWSawnW</td><td>2012</td><td>170</td><td>100</td><td>3</td></tr><tr><th>4</th><td>hardWSawnW</td><td>2013</td><td>160</td><td>95</td><td>4</td></tr></tbody></table>"
      ],
      "text/latex": [
       "\\begin{tabular}{r|ccccc}\n",
       "\t& product & year & production & consumption & id\\\\\n",
       "\t\\hline\n",
       "\t& String & Int64 & Int64 & Int64 & Int64\\\\\n",
       "\t\\hline\n",
       "\t1 & hardWSawnW & 2010 & 200 & 70 & 1 \\\\\n",
       "\t2 & hardWSawnW & 2011 & 150 & 90 & 2 \\\\\n",
       "\t3 & hardWSawnW & 2012 & 170 & 100 & 3 \\\\\n",
       "\t4 & hardWSawnW & 2013 & 160 & 95 & 4 \\\\\n",
       "\\end{tabular}\n"
      ],
      "text/plain": [
       "4×5 DataFrame\n",
       "│ Row │ product    │ year  │ production │ consumption │ id    │\n",
       "│     │ \u001b[90mString\u001b[39m     │ \u001b[90mInt64\u001b[39m │ \u001b[90mInt64\u001b[39m      │ \u001b[90mInt64\u001b[39m       │ \u001b[90mInt64\u001b[39m │\n",
       "├─────┼────────────┼───────┼────────────┼─────────────┼───────┤\n",
       "│ 1   │ hardWSawnW │ 2010  │ 200        │ 70          │ 1     │\n",
       "│ 2   │ hardWSawnW │ 2011  │ 150        │ 90          │ 2     │\n",
       "│ 3   │ hardWSawnW │ 2012  │ 170        │ 100         │ 3     │\n",
       "│ 4   │ hardWSawnW │ 2013  │ 160        │ 95          │ 4     │"
      ]
     },
     "execution_count": 40,
     "metadata": {},
     "output_type": "execute_result"
    }
   ],
   "source": [
    "# Filter by value - boolean selection\n",
    "df[df.product .== \"hardWSawnW\", :]"
   ]
  },
  {
   "cell_type": "code",
   "execution_count": 41,
   "metadata": {},
   "outputs": [
    {
     "data": {
      "text/html": [
       "<table class=\"data-frame\"><thead><tr><th></th><th>product</th><th>year</th><th>production</th><th>consumption</th><th>id</th></tr><tr><th></th><th>String</th><th>Int64</th><th>Int64</th><th>Int64</th><th>Int64</th></tr></thead><tbody><p>4 rows × 5 columns</p><tr><th>1</th><td>hardWSawnW</td><td>2010</td><td>200</td><td>70</td><td>1</td></tr><tr><th>2</th><td>hardWSawnW</td><td>2011</td><td>150</td><td>90</td><td>2</td></tr><tr><th>3</th><td>softWSawnW</td><td>2010</td><td>100</td><td>80</td><td>5</td></tr><tr><th>4</th><td>softWSawnW</td><td>2011</td><td>130</td><td>95</td><td>6</td></tr></tbody></table>"
      ],
      "text/latex": [
       "\\begin{tabular}{r|ccccc}\n",
       "\t& product & year & production & consumption & id\\\\\n",
       "\t\\hline\n",
       "\t& String & Int64 & Int64 & Int64 & Int64\\\\\n",
       "\t\\hline\n",
       "\t1 & hardWSawnW & 2010 & 200 & 70 & 1 \\\\\n",
       "\t2 & hardWSawnW & 2011 & 150 & 90 & 2 \\\\\n",
       "\t3 & softWSawnW & 2010 & 100 & 80 & 5 \\\\\n",
       "\t4 & softWSawnW & 2011 & 130 & 95 & 6 \\\\\n",
       "\\end{tabular}\n"
      ],
      "text/plain": [
       "4×5 DataFrame\n",
       "│ Row │ product    │ year  │ production │ consumption │ id    │\n",
       "│     │ \u001b[90mString\u001b[39m     │ \u001b[90mInt64\u001b[39m │ \u001b[90mInt64\u001b[39m      │ \u001b[90mInt64\u001b[39m       │ \u001b[90mInt64\u001b[39m │\n",
       "├─────┼────────────┼───────┼────────────┼─────────────┼───────┤\n",
       "│ 1   │ hardWSawnW │ 2010  │ 200        │ 70          │ 1     │\n",
       "│ 2   │ hardWSawnW │ 2011  │ 150        │ 90          │ 2     │\n",
       "│ 3   │ softWSawnW │ 2010  │ 100        │ 80          │ 5     │\n",
       "│ 4   │ softWSawnW │ 2011  │ 130        │ 95          │ 6     │"
      ]
     },
     "execution_count": 41,
     "metadata": {},
     "output_type": "execute_result"
    }
   ],
   "source": [
    "# Filter by value - boolean selection using comprehension\n",
    "df[ [y in [2010,2011] for y in df.year], :]"
   ]
  },
  {
   "cell_type": "code",
   "execution_count": 42,
   "metadata": {},
   "outputs": [
    {
     "data": {
      "text/html": [
       "<table class=\"data-frame\"><thead><tr><th></th><th>product</th><th>year</th><th>production</th><th>consumption</th><th>id</th></tr><tr><th></th><th>String</th><th>Int64</th><th>Int64</th><th>Int64</th><th>Int64</th></tr></thead><tbody><p>2 rows × 5 columns</p><tr><th>1</th><td>hardWSawnW</td><td>2012</td><td>170</td><td>100</td><td>3</td></tr><tr><th>2</th><td>hardWSawnW</td><td>2013</td><td>160</td><td>95</td><td>4</td></tr></tbody></table>"
      ],
      "text/latex": [
       "\\begin{tabular}{r|ccccc}\n",
       "\t& product & year & production & consumption & id\\\\\n",
       "\t\\hline\n",
       "\t& String & Int64 & Int64 & Int64 & Int64\\\\\n",
       "\t\\hline\n",
       "\t1 & hardWSawnW & 2012 & 170 & 100 & 3 \\\\\n",
       "\t2 & hardWSawnW & 2013 & 160 & 95 & 4 \\\\\n",
       "\\end{tabular}\n"
      ],
      "text/plain": [
       "2×5 DataFrame\n",
       "│ Row │ product    │ year  │ production │ consumption │ id    │\n",
       "│     │ \u001b[90mString\u001b[39m     │ \u001b[90mInt64\u001b[39m │ \u001b[90mInt64\u001b[39m      │ \u001b[90mInt64\u001b[39m       │ \u001b[90mInt64\u001b[39m │\n",
       "├─────┼────────────┼───────┼────────────┼─────────────┼───────┤\n",
       "│ 1   │ hardWSawnW │ 2012  │ 170        │ 100         │ 3     │\n",
       "│ 2   │ hardWSawnW │ 2013  │ 160        │ 95          │ 4     │"
      ]
     },
     "execution_count": 42,
     "metadata": {},
     "output_type": "execute_result"
    }
   ],
   "source": [
    "# Filter by value - using the @where macro\n",
    "@where(df, :year .> 2011, :product .== \"hardWSawnW\")"
   ]
  },
  {
   "cell_type": "code",
   "execution_count": 43,
   "metadata": {
    "scrolled": true
   },
   "outputs": [
    {
     "data": {
      "text/html": [
       "<table class=\"data-frame\"><thead><tr><th></th><th>product</th><th>year</th><th>production</th><th>consumption</th><th>id</th></tr><tr><th></th><th>String</th><th>Int64</th><th>Int64</th><th>Int64</th><th>Int64</th></tr></thead><tbody><p>8 rows × 5 columns</p><tr><th>1</th><td>hardWSawnW</td><td>2010</td><td>200</td><td>200</td><td>1</td></tr><tr><th>2</th><td>hardWSawnW</td><td>2011</td><td>150</td><td>90</td><td>2</td></tr><tr><th>3</th><td>hardWSawnW</td><td>2012</td><td>170</td><td>100</td><td>3</td></tr><tr><th>4</th><td>hardWSawnW</td><td>2013</td><td>160</td><td>95</td><td>4</td></tr><tr><th>5</th><td>softWSawnW</td><td>2010</td><td>100</td><td>80</td><td>5</td></tr><tr><th>6</th><td>softWSawnW</td><td>2011</td><td>130</td><td>95</td><td>6</td></tr><tr><th>7</th><td>softWSawnW</td><td>2012</td><td>165</td><td>110</td><td>7</td></tr><tr><th>8</th><td>softWSawnW</td><td>2013</td><td>158</td><td>120</td><td>8</td></tr></tbody></table>"
      ],
      "text/latex": [
       "\\begin{tabular}{r|ccccc}\n",
       "\t& product & year & production & consumption & id\\\\\n",
       "\t\\hline\n",
       "\t& String & Int64 & Int64 & Int64 & Int64\\\\\n",
       "\t\\hline\n",
       "\t1 & hardWSawnW & 2010 & 200 & 200 & 1 \\\\\n",
       "\t2 & hardWSawnW & 2011 & 150 & 90 & 2 \\\\\n",
       "\t3 & hardWSawnW & 2012 & 170 & 100 & 3 \\\\\n",
       "\t4 & hardWSawnW & 2013 & 160 & 95 & 4 \\\\\n",
       "\t5 & softWSawnW & 2010 & 100 & 80 & 5 \\\\\n",
       "\t6 & softWSawnW & 2011 & 130 & 95 & 6 \\\\\n",
       "\t7 & softWSawnW & 2012 & 165 & 110 & 7 \\\\\n",
       "\t8 & softWSawnW & 2013 & 158 & 120 & 8 \\\\\n",
       "\\end{tabular}\n"
      ],
      "text/plain": [
       "8×5 DataFrame\n",
       "│ Row │ product    │ year  │ production │ consumption │ id    │\n",
       "│     │ \u001b[90mString\u001b[39m     │ \u001b[90mInt64\u001b[39m │ \u001b[90mInt64\u001b[39m      │ \u001b[90mInt64\u001b[39m       │ \u001b[90mInt64\u001b[39m │\n",
       "├─────┼────────────┼───────┼────────────┼─────────────┼───────┤\n",
       "│ 1   │ hardWSawnW │ 2010  │ 200        │ 200         │ 1     │\n",
       "│ 2   │ hardWSawnW │ 2011  │ 150        │ 90          │ 2     │\n",
       "│ 3   │ hardWSawnW │ 2012  │ 170        │ 100         │ 3     │\n",
       "│ 4   │ hardWSawnW │ 2013  │ 160        │ 95          │ 4     │\n",
       "│ 5   │ softWSawnW │ 2010  │ 100        │ 80          │ 5     │\n",
       "│ 6   │ softWSawnW │ 2011  │ 130        │ 95          │ 6     │\n",
       "│ 7   │ softWSawnW │ 2012  │ 165        │ 110         │ 7     │\n",
       "│ 8   │ softWSawnW │ 2013  │ 158        │ 120         │ 8     │"
      ]
     },
     "execution_count": 43,
     "metadata": {},
     "output_type": "execute_result"
    }
   ],
   "source": [
    "# Change a single value by filtering columns\n",
    "df[ (df.product .== \"hardWSawnW\") .& (df.year .== 2010) , :consumption] .= 200\n",
    "df"
   ]
  },
  {
   "cell_type": "code",
   "execution_count": 44,
   "metadata": {},
   "outputs": [
    {
     "data": {
      "text/html": [
       "<table class=\"data-frame\"><thead><tr><th></th><th>region</th><th>product</th><th>year</th><th>production</th><th>consumption</th></tr><tr><th></th><th>String</th><th>String</th><th>Int64</th><th>Int64</th><th>Int64</th></tr></thead><tbody><p>8 rows × 5 columns</p><tr><th>1</th><td>US</td><td>hardWSawnW</td><td>2010</td><td>120</td><td>70</td></tr><tr><th>2</th><td>US</td><td>hardWSawnW</td><td>2011</td><td>150</td><td>90</td></tr><tr><th>3</th><td>US</td><td>softWSawnW</td><td>2010</td><td>170</td><td>100</td></tr><tr><th>4</th><td>US</td><td>softWSawnW</td><td>2011</td><td>160</td><td>95</td></tr><tr><th>5</th><td>EU</td><td>hardWSawnW</td><td>2010</td><td>100</td><td>80</td></tr><tr><th>6</th><td>EU</td><td>hardWSawnW</td><td>2011</td><td>130</td><td>95</td></tr><tr><th>7</th><td>EU</td><td>softWSawnW</td><td>2010</td><td>165</td><td>110</td></tr><tr><th>8</th><td>EU</td><td>softWSawnW</td><td>2011</td><td>158</td><td>120</td></tr></tbody></table>"
      ],
      "text/latex": [
       "\\begin{tabular}{r|ccccc}\n",
       "\t& region & product & year & production & consumption\\\\\n",
       "\t\\hline\n",
       "\t& String & String & Int64 & Int64 & Int64\\\\\n",
       "\t\\hline\n",
       "\t1 & US & hardWSawnW & 2010 & 120 & 70 \\\\\n",
       "\t2 & US & hardWSawnW & 2011 & 150 & 90 \\\\\n",
       "\t3 & US & softWSawnW & 2010 & 170 & 100 \\\\\n",
       "\t4 & US & softWSawnW & 2011 & 160 & 95 \\\\\n",
       "\t5 & EU & hardWSawnW & 2010 & 100 & 80 \\\\\n",
       "\t6 & EU & hardWSawnW & 2011 & 130 & 95 \\\\\n",
       "\t7 & EU & softWSawnW & 2010 & 165 & 110 \\\\\n",
       "\t8 & EU & softWSawnW & 2011 & 158 & 120 \\\\\n",
       "\\end{tabular}\n"
      ],
      "text/plain": [
       "8×5 DataFrame\n",
       "│ Row │ region │ product    │ year  │ production │ consumption │\n",
       "│     │ \u001b[90mString\u001b[39m │ \u001b[90mString\u001b[39m     │ \u001b[90mInt64\u001b[39m │ \u001b[90mInt64\u001b[39m      │ \u001b[90mInt64\u001b[39m       │\n",
       "├─────┼────────┼────────────┼───────┼────────────┼─────────────┤\n",
       "│ 1   │ US     │ hardWSawnW │ 2010  │ 120        │ 70          │\n",
       "│ 2   │ US     │ hardWSawnW │ 2011  │ 150        │ 90          │\n",
       "│ 3   │ US     │ softWSawnW │ 2010  │ 170        │ 100         │\n",
       "│ 4   │ US     │ softWSawnW │ 2011  │ 160        │ 95          │\n",
       "│ 5   │ EU     │ hardWSawnW │ 2010  │ 100        │ 80          │\n",
       "│ 6   │ EU     │ hardWSawnW │ 2011  │ 130        │ 95          │\n",
       "│ 7   │ EU     │ softWSawnW │ 2010  │ 165        │ 110         │\n",
       "│ 8   │ EU     │ softWSawnW │ 2011  │ 158        │ 120         │"
      ]
     },
     "execution_count": 44,
     "metadata": {},
     "output_type": "execute_result"
    }
   ],
   "source": [
    "df = DataFrame(\n",
    "  region  = [\"US\",\"US\",\"US\",\"US\",\"EU\",\"EU\",\"EU\",\"EU\"],\n",
    "  product = [\"hardWSawnW\",\"hardWSawnW\",\"softWSawnW\",\"softWSawnW\",\"hardWSawnW\",\"hardWSawnW\",\"softWSawnW\",\"softWSawnW\"], \n",
    "  year    = [2010,2011,2010,2011,2010,2011,2010,2011],\n",
    "  production  = [120,150,170,160,100,130,165,158],\n",
    "  consumption = [70,90,100,95,80,95,110,120]\n",
    ")"
   ]
  },
  {
   "cell_type": "code",
   "execution_count": 45,
   "metadata": {},
   "outputs": [
    {
     "data": {
      "text/html": [
       "<table class=\"data-frame\"><thead><tr><th></th><th>region</th><th>product</th><th>production_sum</th><th>consumption_sum</th></tr><tr><th></th><th>String</th><th>String</th><th>Int64</th><th>Int64</th></tr></thead><tbody><p>4 rows × 4 columns</p><tr><th>1</th><td>US</td><td>hardWSawnW</td><td>270</td><td>160</td></tr><tr><th>2</th><td>US</td><td>softWSawnW</td><td>330</td><td>195</td></tr><tr><th>3</th><td>EU</td><td>hardWSawnW</td><td>230</td><td>175</td></tr><tr><th>4</th><td>EU</td><td>softWSawnW</td><td>323</td><td>230</td></tr></tbody></table>"
      ],
      "text/latex": [
       "\\begin{tabular}{r|cccc}\n",
       "\t& region & product & production\\_sum & consumption\\_sum\\\\\n",
       "\t\\hline\n",
       "\t& String & String & Int64 & Int64\\\\\n",
       "\t\\hline\n",
       "\t1 & US & hardWSawnW & 270 & 160 \\\\\n",
       "\t2 & US & softWSawnW & 330 & 195 \\\\\n",
       "\t3 & EU & hardWSawnW & 230 & 175 \\\\\n",
       "\t4 & EU & softWSawnW & 323 & 230 \\\\\n",
       "\\end{tabular}\n"
      ],
      "text/plain": [
       "4×4 DataFrame\n",
       "│ Row │ region │ product    │ production_sum │ consumption_sum │\n",
       "│     │ \u001b[90mString\u001b[39m │ \u001b[90mString\u001b[39m     │ \u001b[90mInt64\u001b[39m          │ \u001b[90mInt64\u001b[39m           │\n",
       "├─────┼────────┼────────────┼────────────────┼─────────────────┤\n",
       "│ 1   │ US     │ hardWSawnW │ 270            │ 160             │\n",
       "│ 2   │ US     │ softWSawnW │ 330            │ 195             │\n",
       "│ 3   │ EU     │ hardWSawnW │ 230            │ 175             │\n",
       "│ 4   │ EU     │ softWSawnW │ 323            │ 230             │"
      ]
     },
     "execution_count": 45,
     "metadata": {},
     "output_type": "execute_result"
    }
   ],
   "source": [
    "# aggregate\n",
    "dfagg = aggregate(df, [:region, :product], sum)\n",
    "select!(dfagg, Not([:year_sum]))"
   ]
  },
  {
   "cell_type": "code",
   "execution_count": 46,
   "metadata": {},
   "outputs": [
    {
     "data": {
      "text/html": [
       "<table class=\"data-frame\"><thead><tr><th></th><th>region</th><th>year</th><th>production</th><th>consumption</th></tr><tr><th></th><th>String</th><th>Int64</th><th>Int64</th><th>Int64</th></tr></thead><tbody><p>4 rows × 4 columns</p><tr><th>1</th><td>US</td><td>2010</td><td>290</td><td>170</td></tr><tr><th>2</th><td>US</td><td>2011</td><td>310</td><td>185</td></tr><tr><th>3</th><td>EU</td><td>2010</td><td>265</td><td>190</td></tr><tr><th>4</th><td>EU</td><td>2011</td><td>288</td><td>215</td></tr></tbody></table>"
      ],
      "text/latex": [
       "\\begin{tabular}{r|cccc}\n",
       "\t& region & year & production & consumption\\\\\n",
       "\t\\hline\n",
       "\t& String & Int64 & Int64 & Int64\\\\\n",
       "\t\\hline\n",
       "\t1 & US & 2010 & 290 & 170 \\\\\n",
       "\t2 & US & 2011 & 310 & 185 \\\\\n",
       "\t3 & EU & 2010 & 265 & 190 \\\\\n",
       "\t4 & EU & 2011 & 288 & 215 \\\\\n",
       "\\end{tabular}\n"
      ],
      "text/plain": [
       "4×4 DataFrame\n",
       "│ Row │ region │ year  │ production │ consumption │\n",
       "│     │ \u001b[90mString\u001b[39m │ \u001b[90mInt64\u001b[39m │ \u001b[90mInt64\u001b[39m      │ \u001b[90mInt64\u001b[39m       │\n",
       "├─────┼────────┼───────┼────────────┼─────────────┤\n",
       "│ 1   │ US     │ 2010  │ 290        │ 170         │\n",
       "│ 2   │ US     │ 2011  │ 310        │ 185         │\n",
       "│ 3   │ EU     │ 2010  │ 265        │ 190         │\n",
       "│ 4   │ EU     │ 2011  │ 288        │ 215         │"
      ]
     },
     "execution_count": 46,
     "metadata": {},
     "output_type": "execute_result"
    }
   ],
   "source": [
    "# aggregate uysing split-apply-combine\n",
    "by(df, [:region,:year]) do df\n",
    "    DataFrame(production = sum(df.production), consumption= sum(df.consumption))\n",
    "end"
   ]
  },
  {
   "cell_type": "code",
   "execution_count": 47,
   "metadata": {},
   "outputs": [
    {
     "data": {
      "text/html": [
       "<table class=\"data-frame\"><thead><tr><th></th><th>region</th><th>product</th><th>year</th><th>production</th><th>consumption</th><th>cumProduction</th></tr><tr><th></th><th>String</th><th>String</th><th>Int64</th><th>Int64</th><th>Int64</th><th>Int64</th></tr></thead><tbody><p>8 rows × 6 columns</p><tr><th>1</th><td>US</td><td>hardWSawnW</td><td>2010</td><td>120</td><td>70</td><td>120</td></tr><tr><th>2</th><td>US</td><td>hardWSawnW</td><td>2011</td><td>150</td><td>90</td><td>270</td></tr><tr><th>3</th><td>US</td><td>softWSawnW</td><td>2010</td><td>170</td><td>100</td><td>170</td></tr><tr><th>4</th><td>US</td><td>softWSawnW</td><td>2011</td><td>160</td><td>95</td><td>330</td></tr><tr><th>5</th><td>EU</td><td>hardWSawnW</td><td>2010</td><td>100</td><td>80</td><td>100</td></tr><tr><th>6</th><td>EU</td><td>hardWSawnW</td><td>2011</td><td>130</td><td>95</td><td>230</td></tr><tr><th>7</th><td>EU</td><td>softWSawnW</td><td>2010</td><td>165</td><td>110</td><td>165</td></tr><tr><th>8</th><td>EU</td><td>softWSawnW</td><td>2011</td><td>158</td><td>120</td><td>323</td></tr></tbody></table>"
      ],
      "text/latex": [
       "\\begin{tabular}{r|cccccc}\n",
       "\t& region & product & year & production & consumption & cumProduction\\\\\n",
       "\t\\hline\n",
       "\t& String & String & Int64 & Int64 & Int64 & Int64\\\\\n",
       "\t\\hline\n",
       "\t1 & US & hardWSawnW & 2010 & 120 & 70 & 120 \\\\\n",
       "\t2 & US & hardWSawnW & 2011 & 150 & 90 & 270 \\\\\n",
       "\t3 & US & softWSawnW & 2010 & 170 & 100 & 170 \\\\\n",
       "\t4 & US & softWSawnW & 2011 & 160 & 95 & 330 \\\\\n",
       "\t5 & EU & hardWSawnW & 2010 & 100 & 80 & 100 \\\\\n",
       "\t6 & EU & hardWSawnW & 2011 & 130 & 95 & 230 \\\\\n",
       "\t7 & EU & softWSawnW & 2010 & 165 & 110 & 165 \\\\\n",
       "\t8 & EU & softWSawnW & 2011 & 158 & 120 & 323 \\\\\n",
       "\\end{tabular}\n"
      ],
      "text/plain": [
       "8×6 DataFrame\n",
       "│ Row │ region │ product    │ year  │ production │ consumption │ cumProduction │\n",
       "│     │ \u001b[90mString\u001b[39m │ \u001b[90mString\u001b[39m     │ \u001b[90mInt64\u001b[39m │ \u001b[90mInt64\u001b[39m      │ \u001b[90mInt64\u001b[39m       │ \u001b[90mInt64\u001b[39m         │\n",
       "├─────┼────────┼────────────┼───────┼────────────┼─────────────┼───────────────┤\n",
       "│ 1   │ US     │ hardWSawnW │ 2010  │ 120        │ 70          │ 120           │\n",
       "│ 2   │ US     │ hardWSawnW │ 2011  │ 150        │ 90          │ 270           │\n",
       "│ 3   │ US     │ softWSawnW │ 2010  │ 170        │ 100         │ 170           │\n",
       "│ 4   │ US     │ softWSawnW │ 2011  │ 160        │ 95          │ 330           │\n",
       "│ 5   │ EU     │ hardWSawnW │ 2010  │ 100        │ 80          │ 100           │\n",
       "│ 6   │ EU     │ hardWSawnW │ 2011  │ 130        │ 95          │ 230           │\n",
       "│ 7   │ EU     │ softWSawnW │ 2010  │ 165        │ 110         │ 165           │\n",
       "│ 8   │ EU     │ softWSawnW │ 2011  │ 158        │ 120         │ 323           │"
      ]
     },
     "execution_count": 47,
     "metadata": {},
     "output_type": "execute_result"
    }
   ],
   "source": [
    "# Compute comulative data by category using the @linq macro (that implements the split-apply-combine)\n",
    "df = @linq df |>\n",
    "     groupby([:region,:product]) |>\n",
    "     transform(cumProduction= cumsum(:production))"
   ]
  },
  {
   "cell_type": "markdown",
   "metadata": {},
   "source": [
    "## Pivot"
   ]
  },
  {
   "cell_type": "code",
   "execution_count": 48,
   "metadata": {},
   "outputs": [
    {
     "data": {
      "text/html": [
       "<table class=\"data-frame\"><thead><tr><th></th><th>variable</th><th>value</th><th>region</th><th>product</th><th>year</th></tr><tr><th></th><th>Symbol</th><th>Int64</th><th>String</th><th>String</th><th>Int64</th></tr></thead><tbody><p>16 rows × 5 columns</p><tr><th>1</th><td>production</td><td>120</td><td>US</td><td>hardWSawnW</td><td>2010</td></tr><tr><th>2</th><td>production</td><td>150</td><td>US</td><td>hardWSawnW</td><td>2011</td></tr><tr><th>3</th><td>production</td><td>170</td><td>US</td><td>softWSawnW</td><td>2010</td></tr><tr><th>4</th><td>production</td><td>160</td><td>US</td><td>softWSawnW</td><td>2011</td></tr><tr><th>5</th><td>production</td><td>100</td><td>EU</td><td>hardWSawnW</td><td>2010</td></tr><tr><th>6</th><td>production</td><td>130</td><td>EU</td><td>hardWSawnW</td><td>2011</td></tr><tr><th>7</th><td>production</td><td>165</td><td>EU</td><td>softWSawnW</td><td>2010</td></tr><tr><th>8</th><td>production</td><td>158</td><td>EU</td><td>softWSawnW</td><td>2011</td></tr><tr><th>9</th><td>consumption</td><td>70</td><td>US</td><td>hardWSawnW</td><td>2010</td></tr><tr><th>10</th><td>consumption</td><td>90</td><td>US</td><td>hardWSawnW</td><td>2011</td></tr><tr><th>11</th><td>consumption</td><td>100</td><td>US</td><td>softWSawnW</td><td>2010</td></tr><tr><th>12</th><td>consumption</td><td>95</td><td>US</td><td>softWSawnW</td><td>2011</td></tr><tr><th>13</th><td>consumption</td><td>80</td><td>EU</td><td>hardWSawnW</td><td>2010</td></tr><tr><th>14</th><td>consumption</td><td>95</td><td>EU</td><td>hardWSawnW</td><td>2011</td></tr><tr><th>15</th><td>consumption</td><td>110</td><td>EU</td><td>softWSawnW</td><td>2010</td></tr><tr><th>16</th><td>consumption</td><td>120</td><td>EU</td><td>softWSawnW</td><td>2011</td></tr></tbody></table>"
      ],
      "text/latex": [
       "\\begin{tabular}{r|ccccc}\n",
       "\t& variable & value & region & product & year\\\\\n",
       "\t\\hline\n",
       "\t& Symbol & Int64 & String & String & Int64\\\\\n",
       "\t\\hline\n",
       "\t1 & production & 120 & US & hardWSawnW & 2010 \\\\\n",
       "\t2 & production & 150 & US & hardWSawnW & 2011 \\\\\n",
       "\t3 & production & 170 & US & softWSawnW & 2010 \\\\\n",
       "\t4 & production & 160 & US & softWSawnW & 2011 \\\\\n",
       "\t5 & production & 100 & EU & hardWSawnW & 2010 \\\\\n",
       "\t6 & production & 130 & EU & hardWSawnW & 2011 \\\\\n",
       "\t7 & production & 165 & EU & softWSawnW & 2010 \\\\\n",
       "\t8 & production & 158 & EU & softWSawnW & 2011 \\\\\n",
       "\t9 & consumption & 70 & US & hardWSawnW & 2010 \\\\\n",
       "\t10 & consumption & 90 & US & hardWSawnW & 2011 \\\\\n",
       "\t11 & consumption & 100 & US & softWSawnW & 2010 \\\\\n",
       "\t12 & consumption & 95 & US & softWSawnW & 2011 \\\\\n",
       "\t13 & consumption & 80 & EU & hardWSawnW & 2010 \\\\\n",
       "\t14 & consumption & 95 & EU & hardWSawnW & 2011 \\\\\n",
       "\t15 & consumption & 110 & EU & softWSawnW & 2010 \\\\\n",
       "\t16 & consumption & 120 & EU & softWSawnW & 2011 \\\\\n",
       "\\end{tabular}\n"
      ],
      "text/plain": [
       "16×5 DataFrame\n",
       "│ Row │ variable    │ value │ region │ product    │ year  │\n",
       "│     │ \u001b[90mSymbol\u001b[39m      │ \u001b[90mInt64\u001b[39m │ \u001b[90mString\u001b[39m │ \u001b[90mString\u001b[39m     │ \u001b[90mInt64\u001b[39m │\n",
       "├─────┼─────────────┼───────┼────────┼────────────┼───────┤\n",
       "│ 1   │ production  │ 120   │ US     │ hardWSawnW │ 2010  │\n",
       "│ 2   │ production  │ 150   │ US     │ hardWSawnW │ 2011  │\n",
       "│ 3   │ production  │ 170   │ US     │ softWSawnW │ 2010  │\n",
       "│ 4   │ production  │ 160   │ US     │ softWSawnW │ 2011  │\n",
       "│ 5   │ production  │ 100   │ EU     │ hardWSawnW │ 2010  │\n",
       "│ 6   │ production  │ 130   │ EU     │ hardWSawnW │ 2011  │\n",
       "│ 7   │ production  │ 165   │ EU     │ softWSawnW │ 2010  │\n",
       "│ 8   │ production  │ 158   │ EU     │ softWSawnW │ 2011  │\n",
       "│ 9   │ consumption │ 70    │ US     │ hardWSawnW │ 2010  │\n",
       "│ 10  │ consumption │ 90    │ US     │ hardWSawnW │ 2011  │\n",
       "│ 11  │ consumption │ 100   │ US     │ softWSawnW │ 2010  │\n",
       "│ 12  │ consumption │ 95    │ US     │ softWSawnW │ 2011  │\n",
       "│ 13  │ consumption │ 80    │ EU     │ hardWSawnW │ 2010  │\n",
       "│ 14  │ consumption │ 95    │ EU     │ hardWSawnW │ 2011  │\n",
       "│ 15  │ consumption │ 110   │ EU     │ softWSawnW │ 2010  │\n",
       "│ 16  │ consumption │ 120   │ EU     │ softWSawnW │ 2011  │"
      ]
     },
     "execution_count": 48,
     "metadata": {},
     "output_type": "execute_result"
    }
   ],
   "source": [
    "# Stack - from wide to long format\n",
    "longdf = stack(df,[:production,:consumption])\n",
    "select!(longdf, Not([:cumProduction]))"
   ]
  },
  {
   "cell_type": "code",
   "execution_count": 49,
   "metadata": {},
   "outputs": [
    {
     "data": {
      "text/html": [
       "<table class=\"data-frame\"><thead><tr><th></th><th>variable</th><th>region</th><th>product</th><th>2010</th><th>2011</th></tr><tr><th></th><th>Symbol</th><th>String</th><th>String</th><th>Int64⍰</th><th>Int64⍰</th></tr></thead><tbody><p>8 rows × 5 columns</p><tr><th>1</th><td>consumption</td><td>EU</td><td>hardWSawnW</td><td>80</td><td>95</td></tr><tr><th>2</th><td>consumption</td><td>EU</td><td>softWSawnW</td><td>110</td><td>120</td></tr><tr><th>3</th><td>consumption</td><td>US</td><td>hardWSawnW</td><td>70</td><td>90</td></tr><tr><th>4</th><td>consumption</td><td>US</td><td>softWSawnW</td><td>100</td><td>95</td></tr><tr><th>5</th><td>production</td><td>EU</td><td>hardWSawnW</td><td>100</td><td>130</td></tr><tr><th>6</th><td>production</td><td>EU</td><td>softWSawnW</td><td>165</td><td>158</td></tr><tr><th>7</th><td>production</td><td>US</td><td>hardWSawnW</td><td>120</td><td>150</td></tr><tr><th>8</th><td>production</td><td>US</td><td>softWSawnW</td><td>170</td><td>160</td></tr></tbody></table>"
      ],
      "text/latex": [
       "\\begin{tabular}{r|ccccc}\n",
       "\t& variable & region & product & 2010 & 2011\\\\\n",
       "\t\\hline\n",
       "\t& Symbol & String & String & Int64⍰ & Int64⍰\\\\\n",
       "\t\\hline\n",
       "\t1 & consumption & EU & hardWSawnW & 80 & 95 \\\\\n",
       "\t2 & consumption & EU & softWSawnW & 110 & 120 \\\\\n",
       "\t3 & consumption & US & hardWSawnW & 70 & 90 \\\\\n",
       "\t4 & consumption & US & softWSawnW & 100 & 95 \\\\\n",
       "\t5 & production & EU & hardWSawnW & 100 & 130 \\\\\n",
       "\t6 & production & EU & softWSawnW & 165 & 158 \\\\\n",
       "\t7 & production & US & hardWSawnW & 120 & 150 \\\\\n",
       "\t8 & production & US & softWSawnW & 170 & 160 \\\\\n",
       "\\end{tabular}\n"
      ],
      "text/plain": [
       "8×5 DataFrame\n",
       "│ Row │ variable    │ region │ product    │ 2010   │ 2011   │\n",
       "│     │ \u001b[90mSymbol\u001b[39m      │ \u001b[90mString\u001b[39m │ \u001b[90mString\u001b[39m     │ \u001b[90mInt64⍰\u001b[39m │ \u001b[90mInt64⍰\u001b[39m │\n",
       "├─────┼─────────────┼────────┼────────────┼────────┼────────┤\n",
       "│ 1   │ consumption │ EU     │ hardWSawnW │ 80     │ 95     │\n",
       "│ 2   │ consumption │ EU     │ softWSawnW │ 110    │ 120    │\n",
       "│ 3   │ consumption │ US     │ hardWSawnW │ 70     │ 90     │\n",
       "│ 4   │ consumption │ US     │ softWSawnW │ 100    │ 95     │\n",
       "│ 5   │ production  │ EU     │ hardWSawnW │ 100    │ 130    │\n",
       "│ 6   │ production  │ EU     │ softWSawnW │ 165    │ 158    │\n",
       "│ 7   │ production  │ US     │ hardWSawnW │ 120    │ 150    │\n",
       "│ 8   │ production  │ US     │ softWSawnW │ 170    │ 160    │"
      ]
     },
     "execution_count": 49,
     "metadata": {},
     "output_type": "execute_result"
    }
   ],
   "source": [
    "# Unstack - from long to wide format\n",
    "#`widedf = unstack(longdf, :id, :variable, :value)`\n",
    "widedf = unstack(longdf, :year, :value)"
   ]
  },
  {
   "cell_type": "code",
   "execution_count": null,
   "metadata": {},
   "outputs": [],
   "source": []
  }
 ],
 "metadata": {
  "kernelspec": {
   "display_name": "Julia 1.2.0",
   "language": "julia",
   "name": "julia-1.2"
  },
  "language_info": {
   "file_extension": ".jl",
   "mimetype": "application/julia",
   "name": "julia",
   "version": "1.2.0"
  }
 },
 "nbformat": 4,
 "nbformat_minor": 1
}
