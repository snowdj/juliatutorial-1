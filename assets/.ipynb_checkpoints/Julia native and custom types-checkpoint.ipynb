{
 "cells": [
  {
   "cell_type": "markdown",
   "metadata": {},
   "source": [
    "## Implementation of the OO paradigm in Julia"
   ]
  },
  {
   "cell_type": "markdown",
   "metadata": {},
   "source": [
    " ### Type hierarchy of Number in Julia \n"
   ]
  },
  {
   "cell_type": "markdown",
   "metadata": {},
   "source": [
    "![\"Type hierarchy for Julia numbers\"](imgs/type_hierarchy_for_julia_numbers.png)"
   ]
  },
  {
   "cell_type": "code",
   "execution_count": 2,
   "metadata": {},
   "outputs": [
    {
     "data": {
      "text/plain": [
       "printMyActivity (generic function with 2 methods)"
      ]
     },
     "execution_count": 2,
     "metadata": {},
     "output_type": "execute_result"
    }
   ],
   "source": [
    "struct Person\n",
    "  myname::String\n",
    "  age::Int64\n",
    "end\n",
    "\n",
    "struct Shoes\n",
    "   shoesType::String\n",
    "   colour::String\n",
    "end\n",
    "\n",
    "struct Student\n",
    "   s::Person\n",
    "   school::String\n",
    "   shoes::Shoes\n",
    "end\n",
    "\n",
    "function printMyActivity(self::Student)\n",
    "   println(\"I study at $(self.school) school\")\n",
    "end\n",
    "\n",
    "struct Employee\n",
    "   s::Person\n",
    "   monthlyIncomes::Float64\n",
    "   company::String\n",
    "   shoes::Shoes\n",
    "end\n",
    "\n",
    "# note that the name of the function is the same as before, but depending on the type of parameters\n",
    "# we do something different (that's thanks to the multiple dispatch capability of Julia)\n",
    "function printMyActivity(self::Employee) \n",
    "  println(\"I work at $(self.company) company\")\n",
    "end\n",
    "\n"
   ]
  },
  {
   "cell_type": "code",
   "execution_count": 3,
   "metadata": {},
   "outputs": [
    {
     "name": "stdout",
     "output_type": "stream",
     "text": [
      "I study at Divine School school\n",
      "I work at ABC Corporation Inc. company\n"
     ]
    },
    {
     "data": {
      "text/plain": [
       "\"brown\""
      ]
     },
     "execution_count": 3,
     "metadata": {},
     "output_type": "execute_result"
    }
   ],
   "source": [
    "gymShoes = Shoes(\"gym\",\"white\")\n",
    "proShoes = Shoes(\"classical\",\"brown\")\n",
    "\n",
    "Marc    = Student(Person(\"Marc\",15),\"Divine School\",gymShoes)\n",
    "MrBrown = Employee(Person(\"Brown\",45),2500.0,\"ABC Corporation Inc.\", proShoes)\n",
    "\n",
    "printMyActivity(Marc)\n",
    "printMyActivity(MrBrown)\n",
    "MrBrown.shoes.colour"
   ]
  },
  {
   "cell_type": "code",
   "execution_count": null,
   "metadata": {},
   "outputs": [],
   "source": []
  }
 ],
 "metadata": {
  "kernelspec": {
   "display_name": "Julia 1.2.0",
   "language": "julia",
   "name": "julia-1.2"
  },
  "language_info": {
   "file_extension": ".jl",
   "mimetype": "application/julia",
   "name": "julia",
   "version": "1.2.0"
  }
 },
 "nbformat": 4,
 "nbformat_minor": 1
}
