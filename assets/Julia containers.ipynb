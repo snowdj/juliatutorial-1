{
 "cells": [
  {
   "cell_type": "markdown",
   "metadata": {},
   "source": [
    "# Julia containers\n"
   ]
  },
  {
   "cell_type": "markdown",
   "metadata": {},
   "source": [
    "### Array\n",
    " - list of mutable elements\n",
    " - can have multiple dimensions (e.g. 2d === matrix)\n",
    " - can be nested"
   ]
  },
  {
   "cell_type": "code",
   "execution_count": 1,
   "metadata": {},
   "outputs": [
    {
     "data": {
      "text/plain": [
       "3-element Array{Int64,1}:\n",
       " 1\n",
       " 2\n",
       " 3"
      ]
     },
     "execution_count": 1,
     "metadata": {},
     "output_type": "execute_result"
    }
   ],
   "source": [
    "# Simple array (a vector)\n",
    "a = [1,2,3]"
   ]
  },
  {
   "cell_type": "code",
   "execution_count": 2,
   "metadata": {},
   "outputs": [
    {
     "data": {
      "text/plain": [
       "2-element Array{Array{Int64,1},1}:\n",
       " [1, 2, 3]   \n",
       " [4, 5, 6, 7]"
      ]
     },
     "execution_count": 2,
     "metadata": {},
     "output_type": "execute_result"
    }
   ],
   "source": [
    "# 1-dimensional array with 2-elements (each of those is again a vector)\n",
    "a = [[1,2,3],[4,5,6,7]] "
   ]
  },
  {
   "cell_type": "code",
   "execution_count": 3,
   "metadata": {},
   "outputs": [
    {
     "data": {
      "text/plain": [
       "3×2 Array{Int64,2}:\n",
       " 1  4\n",
       " 2  5\n",
       " 3  6"
      ]
     },
     "execution_count": 3,
     "metadata": {},
     "output_type": "execute_result"
    }
   ],
   "source": [
    "# 2-dimensional array (a matrix with 2 columns) with three elements (scalars).\n",
    "a = [[1,2,3] [4,5,6]] # [[elements of the first column] [elements of the second column] ...]"
   ]
  },
  {
   "cell_type": "code",
   "execution_count": 4,
   "metadata": {},
   "outputs": [
    {
     "data": {
      "text/plain": [
       "3×2 Array{Int64,2}:\n",
       " 1  4\n",
       " 2  5\n",
       " 3  6"
      ]
     },
     "execution_count": 4,
     "metadata": {},
     "output_type": "execute_result"
    }
   ],
   "source": [
    "# alternativly:\n",
    "a = [1 4; 2 5; 3 6] # [first row; second row; ...]"
   ]
  },
  {
   "cell_type": "code",
   "execution_count": 5,
   "metadata": {},
   "outputs": [
    {
     "data": {
      "text/plain": [
       "3×3 Array{Int64,2}:\n",
       "  9  19  29\n",
       " 12  26  40\n",
       " 15  33  51"
      ]
     },
     "execution_count": 5,
     "metadata": {},
     "output_type": "execute_result"
    }
   ],
   "source": [
    "# Linear algebra supported out-of the box\n",
    "A = [[1,2,3] [4,5,6]]\n",
    "B = [[1,2] [3,4] [5,6]] \n",
    "C = A * B"
   ]
  },
  {
   "cell_type": "code",
   "execution_count": 6,
   "metadata": {
    "scrolled": true
   },
   "outputs": [
    {
     "data": {
      "text/plain": [
       "3×3 LinearAlgebra.Adjoint{Int64,Array{Int64,2}}:\n",
       "  9  12  15\n",
       " 19  26  33\n",
       " 29  40  51"
      ]
     },
     "execution_count": 6,
     "metadata": {},
     "output_type": "execute_result"
    }
   ],
   "source": [
    "D = C'"
   ]
  },
  {
   "cell_type": "code",
   "execution_count": 7,
   "metadata": {},
   "outputs": [
    {
     "data": {
      "text/plain": [
       "2×3 Array{Float64,2}:\n",
       " 1.0  3.0  5.0\n",
       " 2.0  4.0  6.0"
      ]
     },
     "execution_count": 7,
     "metadata": {},
     "output_type": "execute_result"
    }
   ],
   "source": [
    "# Solve linear system A X = C for X\n",
    "X = A \\ C"
   ]
  },
  {
   "cell_type": "code",
   "execution_count": 9,
   "metadata": {},
   "outputs": [
    {
     "data": {
      "text/plain": [
       "-2.0"
      ]
     },
     "execution_count": 9,
     "metadata": {},
     "output_type": "execute_result"
    }
   ],
   "source": [
    "# Determinant\n",
    "# Need Standard Lib LinearAlgebra\n",
    "using LinearAlgebra\n",
    "E = [[1,2] [3,4]]\n",
    "det(E)"
   ]
  },
  {
   "cell_type": "code",
   "execution_count": 10,
   "metadata": {},
   "outputs": [
    {
     "data": {
      "text/plain": [
       "2-element Array{Float64,1}:\n",
       " -0.3722813232690143\n",
       "  5.372281323269014 "
      ]
     },
     "execution_count": 10,
     "metadata": {},
     "output_type": "execute_result"
    }
   ],
   "source": [
    "# Eigenvalues (characteristics roots or latent roots)\n",
    "eigvals(E)"
   ]
  },
  {
   "cell_type": "code",
   "execution_count": 11,
   "metadata": {},
   "outputs": [],
   "source": [
    "# And if we don't remember the function to find the eigenvectors? Let's use the documentation"
   ]
  },
  {
   "cell_type": "code",
   "execution_count": 12,
   "metadata": {},
   "outputs": [
    {
     "name": "stdout",
     "output_type": "stream",
     "text": [
      "search: \u001b[0m\u001b[1me\u001b[22m\u001b[0m\u001b[1mi\u001b[22m\u001b[0m\u001b[1mg\u001b[22m\u001b[0m\u001b[1me\u001b[22m\u001b[0m\u001b[1mn\u001b[22m! \u001b[0m\u001b[1me\u001b[22m\u001b[0m\u001b[1mi\u001b[22m\u001b[0m\u001b[1mg\u001b[22m\u001b[0m\u001b[1me\u001b[22m\u001b[0m\u001b[1mn\u001b[22m \u001b[0m\u001b[1mE\u001b[22m\u001b[0m\u001b[1mi\u001b[22m\u001b[0m\u001b[1mg\u001b[22m\u001b[0m\u001b[1me\u001b[22m\u001b[0m\u001b[1mn\u001b[22m G\u001b[0m\u001b[1me\u001b[22mneral\u001b[0m\u001b[1mi\u001b[22mzedEi\u001b[0m\u001b[1mg\u001b[22m\u001b[0m\u001b[1me\u001b[22m\u001b[0m\u001b[1mn\u001b[22m\n",
      "\n",
      "Couldn't find \u001b[36meigenv\u001b[39m\n",
      "Perhaps you meant eigen, eigen!, Eigen, eigvecs, eigmax, eigmin or setenv\n"
     ]
    },
    {
     "data": {
      "text/latex": [
       "No documentation found.\n",
       "\n",
       "Binding \\texttt{eigenv} does not exist.\n",
       "\n"
      ],
      "text/markdown": [
       "No documentation found.\n",
       "\n",
       "Binding `eigenv` does not exist.\n"
      ],
      "text/plain": [
       "  No documentation found.\n",
       "\n",
       "  Binding \u001b[36meigenv\u001b[39m does not exist."
      ]
     },
     "execution_count": 12,
     "metadata": {},
     "output_type": "execute_result"
    }
   ],
   "source": [
    "?eigenv"
   ]
  },
  {
   "cell_type": "code",
   "execution_count": 15,
   "metadata": {},
   "outputs": [
    {
     "name": "stdout",
     "output_type": "stream",
     "text": [
      "search: \u001b[0m\u001b[1me\u001b[22m\u001b[0m\u001b[1mi\u001b[22m\u001b[0m\u001b[1mg\u001b[22m\u001b[0m\u001b[1mv\u001b[22m\u001b[0m\u001b[1me\u001b[22m\u001b[0m\u001b[1mc\u001b[22m\u001b[0m\u001b[1ms\u001b[22m\n",
      "\n"
     ]
    },
    {
     "data": {
      "text/latex": [
       "\\begin{verbatim}\n",
       "eigvecs(A::SymTridiagonal[, eigvals]) -> Matrix\n",
       "\\end{verbatim}\n",
       "Return a matrix \\texttt{M} whose columns are the eigenvectors of \\texttt{A}. (The \\texttt{k}th eigenvector can be obtained from the slice \\texttt{M[:, k]}.)\n",
       "\n",
       "If the optional vector of eigenvalues \\texttt{eigvals} is specified, \\texttt{eigvecs} returns the specific corresponding eigenvectors.\n",
       "\n",
       "\\section{Examples}\n",
       "\\begin{verbatim}\n",
       "julia> A = SymTridiagonal([1.; 2.; 1.], [2.; 3.])\n",
       "3×3 SymTridiagonal{Float64,Array{Float64,1}}:\n",
       " 1.0  2.0   ⋅\n",
       " 2.0  2.0  3.0\n",
       "  ⋅   3.0  1.0\n",
       "\n",
       "julia> eigvals(A)\n",
       "3-element Array{Float64,1}:\n",
       " -2.1400549446402604\n",
       "  1.0000000000000002\n",
       "  5.140054944640259\n",
       "\n",
       "julia> eigvecs(A)\n",
       "3×3 Array{Float64,2}:\n",
       "  0.418304  -0.83205      0.364299\n",
       " -0.656749  -7.39009e-16  0.754109\n",
       "  0.627457   0.5547       0.546448\n",
       "\n",
       "julia> eigvecs(A, [1.])\n",
       "3×1 Array{Float64,2}:\n",
       "  0.8320502943378438\n",
       "  4.263514128092366e-17\n",
       " -0.5547001962252291\n",
       "\\end{verbatim}\n",
       "\\rule{\\textwidth}{1pt}\n",
       "\\begin{verbatim}\n",
       "eigvecs(A; permute::Bool=true, scale::Bool=true, `sortby`) -> Matrix\n",
       "\\end{verbatim}\n",
       "Return a matrix \\texttt{M} whose columns are the eigenvectors of \\texttt{A}. (The \\texttt{k}th eigenvector can be obtained from the slice \\texttt{M[:, k]}.) The \\texttt{permute}, \\texttt{scale}, and \\texttt{sortby} keywords are the same as for \\href{@ref}{\\texttt{eigen}}.\n",
       "\n",
       "\\section{Examples}\n",
       "\\begin{verbatim}\n",
       "julia> eigvecs([1.0 0.0 0.0; 0.0 3.0 0.0; 0.0 0.0 18.0])\n",
       "3×3 Array{Float64,2}:\n",
       " 1.0  0.0  0.0\n",
       " 0.0  1.0  0.0\n",
       " 0.0  0.0  1.0\n",
       "\\end{verbatim}\n",
       "\\rule{\\textwidth}{1pt}\n",
       "\\begin{verbatim}\n",
       "eigvecs(A, B) -> Matrix\n",
       "\\end{verbatim}\n",
       "Return a matrix \\texttt{M} whose columns are the generalized eigenvectors of \\texttt{A} and \\texttt{B}. (The \\texttt{k}th eigenvector can be obtained from the slice \\texttt{M[:, k]}.)\n",
       "\n",
       "\\section{Examples}\n",
       "\\begin{verbatim}\n",
       "julia> A = [1 0; 0 -1]\n",
       "2×2 Array{Int64,2}:\n",
       " 1   0\n",
       " 0  -1\n",
       "\n",
       "julia> B = [0 1; 1 0]\n",
       "2×2 Array{Int64,2}:\n",
       " 0  1\n",
       " 1  0\n",
       "\n",
       "julia> eigvecs(A, B)\n",
       "2×2 Array{Complex{Float64},2}:\n",
       "  0.0+1.0im   0.0-1.0im\n",
       " -1.0+0.0im  -1.0-0.0im\n",
       "\\end{verbatim}\n"
      ],
      "text/markdown": [
       "```\n",
       "eigvecs(A::SymTridiagonal[, eigvals]) -> Matrix\n",
       "```\n",
       "\n",
       "Return a matrix `M` whose columns are the eigenvectors of `A`. (The `k`th eigenvector can be obtained from the slice `M[:, k]`.)\n",
       "\n",
       "If the optional vector of eigenvalues `eigvals` is specified, `eigvecs` returns the specific corresponding eigenvectors.\n",
       "\n",
       "# Examples\n",
       "\n",
       "```jldoctest\n",
       "julia> A = SymTridiagonal([1.; 2.; 1.], [2.; 3.])\n",
       "3×3 SymTridiagonal{Float64,Array{Float64,1}}:\n",
       " 1.0  2.0   ⋅\n",
       " 2.0  2.0  3.0\n",
       "  ⋅   3.0  1.0\n",
       "\n",
       "julia> eigvals(A)\n",
       "3-element Array{Float64,1}:\n",
       " -2.1400549446402604\n",
       "  1.0000000000000002\n",
       "  5.140054944640259\n",
       "\n",
       "julia> eigvecs(A)\n",
       "3×3 Array{Float64,2}:\n",
       "  0.418304  -0.83205      0.364299\n",
       " -0.656749  -7.39009e-16  0.754109\n",
       "  0.627457   0.5547       0.546448\n",
       "\n",
       "julia> eigvecs(A, [1.])\n",
       "3×1 Array{Float64,2}:\n",
       "  0.8320502943378438\n",
       "  4.263514128092366e-17\n",
       " -0.5547001962252291\n",
       "```\n",
       "\n",
       "---\n",
       "\n",
       "```\n",
       "eigvecs(A; permute::Bool=true, scale::Bool=true, `sortby`) -> Matrix\n",
       "```\n",
       "\n",
       "Return a matrix `M` whose columns are the eigenvectors of `A`. (The `k`th eigenvector can be obtained from the slice `M[:, k]`.) The `permute`, `scale`, and `sortby` keywords are the same as for [`eigen`](@ref).\n",
       "\n",
       "# Examples\n",
       "\n",
       "```jldoctest\n",
       "julia> eigvecs([1.0 0.0 0.0; 0.0 3.0 0.0; 0.0 0.0 18.0])\n",
       "3×3 Array{Float64,2}:\n",
       " 1.0  0.0  0.0\n",
       " 0.0  1.0  0.0\n",
       " 0.0  0.0  1.0\n",
       "```\n",
       "\n",
       "---\n",
       "\n",
       "```\n",
       "eigvecs(A, B) -> Matrix\n",
       "```\n",
       "\n",
       "Return a matrix `M` whose columns are the generalized eigenvectors of `A` and `B`. (The `k`th eigenvector can be obtained from the slice `M[:, k]`.)\n",
       "\n",
       "# Examples\n",
       "\n",
       "```jldoctest\n",
       "julia> A = [1 0; 0 -1]\n",
       "2×2 Array{Int64,2}:\n",
       " 1   0\n",
       " 0  -1\n",
       "\n",
       "julia> B = [0 1; 1 0]\n",
       "2×2 Array{Int64,2}:\n",
       " 0  1\n",
       " 1  0\n",
       "\n",
       "julia> eigvecs(A, B)\n",
       "2×2 Array{Complex{Float64},2}:\n",
       "  0.0+1.0im   0.0-1.0im\n",
       " -1.0+0.0im  -1.0-0.0im\n",
       "```\n"
      ],
      "text/plain": [
       "\u001b[36m  eigvecs(A::SymTridiagonal[, eigvals]) -> Matrix\u001b[39m\n",
       "\n",
       "  Return a matrix \u001b[36mM\u001b[39m whose columns are the eigenvectors of \u001b[36mA\u001b[39m. (The \u001b[36mk\u001b[39mth\n",
       "  eigenvector can be obtained from the slice \u001b[36mM[:, k]\u001b[39m.)\n",
       "\n",
       "  If the optional vector of eigenvalues \u001b[36meigvals\u001b[39m is specified, \u001b[36meigvecs\u001b[39m returns\n",
       "  the specific corresponding eigenvectors.\n",
       "\n",
       "\u001b[1m  Examples\u001b[22m\n",
       "\u001b[1m  ≡≡≡≡≡≡≡≡≡≡\u001b[22m\n",
       "\n",
       "\u001b[36m  julia> A = SymTridiagonal([1.; 2.; 1.], [2.; 3.])\u001b[39m\n",
       "\u001b[36m  3×3 SymTridiagonal{Float64,Array{Float64,1}}:\u001b[39m\n",
       "\u001b[36m   1.0  2.0   ⋅\u001b[39m\n",
       "\u001b[36m   2.0  2.0  3.0\u001b[39m\n",
       "\u001b[36m    ⋅   3.0  1.0\u001b[39m\n",
       "\u001b[36m  \u001b[39m\n",
       "\u001b[36m  julia> eigvals(A)\u001b[39m\n",
       "\u001b[36m  3-element Array{Float64,1}:\u001b[39m\n",
       "\u001b[36m   -2.1400549446402604\u001b[39m\n",
       "\u001b[36m    1.0000000000000002\u001b[39m\n",
       "\u001b[36m    5.140054944640259\u001b[39m\n",
       "\u001b[36m  \u001b[39m\n",
       "\u001b[36m  julia> eigvecs(A)\u001b[39m\n",
       "\u001b[36m  3×3 Array{Float64,2}:\u001b[39m\n",
       "\u001b[36m    0.418304  -0.83205      0.364299\u001b[39m\n",
       "\u001b[36m   -0.656749  -7.39009e-16  0.754109\u001b[39m\n",
       "\u001b[36m    0.627457   0.5547       0.546448\u001b[39m\n",
       "\u001b[36m  \u001b[39m\n",
       "\u001b[36m  julia> eigvecs(A, [1.])\u001b[39m\n",
       "\u001b[36m  3×1 Array{Float64,2}:\u001b[39m\n",
       "\u001b[36m    0.8320502943378438\u001b[39m\n",
       "\u001b[36m    4.263514128092366e-17\u001b[39m\n",
       "\u001b[36m   -0.5547001962252291\u001b[39m\n",
       "\n",
       "  ────────────────────────────────────────────────────────────────────────────\n",
       "\n",
       "\u001b[36m  eigvecs(A; permute::Bool=true, scale::Bool=true, `sortby`) -> Matrix\u001b[39m\n",
       "\n",
       "  Return a matrix \u001b[36mM\u001b[39m whose columns are the eigenvectors of \u001b[36mA\u001b[39m. (The \u001b[36mk\u001b[39mth\n",
       "  eigenvector can be obtained from the slice \u001b[36mM[:, k]\u001b[39m.) The \u001b[36mpermute\u001b[39m, \u001b[36mscale\u001b[39m, and\n",
       "  \u001b[36msortby\u001b[39m keywords are the same as for \u001b[36meigen\u001b[39m.\n",
       "\n",
       "\u001b[1m  Examples\u001b[22m\n",
       "\u001b[1m  ≡≡≡≡≡≡≡≡≡≡\u001b[22m\n",
       "\n",
       "\u001b[36m  julia> eigvecs([1.0 0.0 0.0; 0.0 3.0 0.0; 0.0 0.0 18.0])\u001b[39m\n",
       "\u001b[36m  3×3 Array{Float64,2}:\u001b[39m\n",
       "\u001b[36m   1.0  0.0  0.0\u001b[39m\n",
       "\u001b[36m   0.0  1.0  0.0\u001b[39m\n",
       "\u001b[36m   0.0  0.0  1.0\u001b[39m\n",
       "\n",
       "  ────────────────────────────────────────────────────────────────────────────\n",
       "\n",
       "\u001b[36m  eigvecs(A, B) -> Matrix\u001b[39m\n",
       "\n",
       "  Return a matrix \u001b[36mM\u001b[39m whose columns are the generalized eigenvectors of \u001b[36mA\u001b[39m and \u001b[36mB\u001b[39m.\n",
       "  (The \u001b[36mk\u001b[39mth eigenvector can be obtained from the slice \u001b[36mM[:, k]\u001b[39m.)\n",
       "\n",
       "\u001b[1m  Examples\u001b[22m\n",
       "\u001b[1m  ≡≡≡≡≡≡≡≡≡≡\u001b[22m\n",
       "\n",
       "\u001b[36m  julia> A = [1 0; 0 -1]\u001b[39m\n",
       "\u001b[36m  2×2 Array{Int64,2}:\u001b[39m\n",
       "\u001b[36m   1   0\u001b[39m\n",
       "\u001b[36m   0  -1\u001b[39m\n",
       "\u001b[36m  \u001b[39m\n",
       "\u001b[36m  julia> B = [0 1; 1 0]\u001b[39m\n",
       "\u001b[36m  2×2 Array{Int64,2}:\u001b[39m\n",
       "\u001b[36m   0  1\u001b[39m\n",
       "\u001b[36m   1  0\u001b[39m\n",
       "\u001b[36m  \u001b[39m\n",
       "\u001b[36m  julia> eigvecs(A, B)\u001b[39m\n",
       "\u001b[36m  2×2 Array{Complex{Float64},2}:\u001b[39m\n",
       "\u001b[36m    0.0+1.0im   0.0-1.0im\u001b[39m\n",
       "\u001b[36m   -1.0+0.0im  -1.0-0.0im\u001b[39m"
      ]
     },
     "execution_count": 15,
     "metadata": {},
     "output_type": "execute_result"
    }
   ],
   "source": [
    "?eigvecs"
   ]
  },
  {
   "cell_type": "code",
   "execution_count": 16,
   "metadata": {},
   "outputs": [
    {
     "data": {
      "text/plain": [
       "2×2 Array{Float64,2}:\n",
       " -0.909377  -0.565767\n",
       "  0.415974  -0.824565"
      ]
     },
     "execution_count": 16,
     "metadata": {},
     "output_type": "execute_result"
    }
   ],
   "source": [
    "eigvecs(E)"
   ]
  },
  {
   "cell_type": "markdown",
   "metadata": {},
   "source": [
    "### Tuples\n",
    "list of immutable elements"
   ]
  },
  {
   "cell_type": "code",
   "execution_count": 17,
   "metadata": {},
   "outputs": [
    {
     "data": {
      "text/plain": [
       "(1, 2, 3)"
      ]
     },
     "execution_count": 17,
     "metadata": {},
     "output_type": "execute_result"
    }
   ],
   "source": [
    "a = (1,2,3)"
   ]
  },
  {
   "cell_type": "markdown",
   "metadata": {},
   "source": [
    "### Sets\n",
    " - represent collections of unordered, unique values\n",
    " - support set operations"
   ]
  },
  {
   "cell_type": "code",
   "execution_count": 18,
   "metadata": {},
   "outputs": [
    {
     "data": {
      "text/plain": [
       "Set([4, 2, 3, 1])"
      ]
     },
     "execution_count": 18,
     "metadata": {},
     "output_type": "execute_result"
    }
   ],
   "source": [
    "a = Set([1,2,2,3,4])"
   ]
  },
  {
   "cell_type": "code",
   "execution_count": 19,
   "metadata": {},
   "outputs": [
    {
     "data": {
      "text/plain": [
       "Set([4, 3, 5, 6])"
      ]
     },
     "execution_count": 19,
     "metadata": {},
     "output_type": "execute_result"
    }
   ],
   "source": [
    "b = Set([3,4,5,6])"
   ]
  },
  {
   "cell_type": "code",
   "execution_count": 20,
   "metadata": {},
   "outputs": [
    {
     "data": {
      "text/plain": [
       "Set([4, 3])"
      ]
     },
     "execution_count": 20,
     "metadata": {},
     "output_type": "execute_result"
    }
   ],
   "source": [
    "c = intersect(a,b)"
   ]
  },
  {
   "cell_type": "markdown",
   "metadata": {},
   "source": [
    "### Dictionaries\n",
    "- store mappings from keys to values\n",
    "- apparent random sorting"
   ]
  },
  {
   "cell_type": "code",
   "execution_count": 21,
   "metadata": {},
   "outputs": [
    {
     "data": {
      "text/plain": [
       "Dict{Char,Int64} with 3 entries:\n",
       "  'a' => 1\n",
       "  'c' => 3\n",
       "  'b' => 2"
      ]
     },
     "execution_count": 21,
     "metadata": {},
     "output_type": "execute_result"
    }
   ],
   "source": [
    "d = Dict('a'=>1, 'b'=>2, 'c'=>3)"
   ]
  },
  {
   "cell_type": "code",
   "execution_count": 22,
   "metadata": {},
   "outputs": [
    {
     "data": {
      "text/plain": [
       "1"
      ]
     },
     "execution_count": 22,
     "metadata": {},
     "output_type": "execute_result"
    }
   ],
   "source": [
    "d['a']"
   ]
  },
  {
   "cell_type": "code",
   "execution_count": 23,
   "metadata": {},
   "outputs": [
    {
     "name": "stdout",
     "output_type": "stream",
     "text": [
      "a is 1\n",
      "c is 3\n",
      "b is 2\n"
     ]
    }
   ],
   "source": [
    "for (k,v) in d\n",
    "   println(\"$k is $v\")\n",
    "end"
   ]
  },
  {
   "cell_type": "code",
   "execution_count": null,
   "metadata": {},
   "outputs": [],
   "source": []
  }
 ],
 "metadata": {
  "kernelspec": {
   "display_name": "Julia 1.2.0",
   "language": "julia",
   "name": "julia-1.2"
  },
  "language_info": {
   "file_extension": ".jl",
   "mimetype": "application/julia",
   "name": "julia",
   "version": "1.2.0"
  }
 },
 "nbformat": 4,
 "nbformat_minor": 1
}
