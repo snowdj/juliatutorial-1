{
 "cells": [
  {
   "cell_type": "markdown",
   "metadata": {},
   "source": [
    "# Comprehension"
   ]
  },
  {
   "cell_type": "code",
   "execution_count": 1,
   "metadata": {},
   "outputs": [
    {
     "data": {
      "text/plain": [
       "10×3 Array{Int64,2}:\n",
       "  11   12   13\n",
       "  21   22   23\n",
       "  31   32   33\n",
       "  41   42   43\n",
       "  51   52   53\n",
       "  61   62   63\n",
       "  71   72   73\n",
       "  81   82   83\n",
       "  91   92   93\n",
       " 101  102  103"
      ]
     },
     "execution_count": 1,
     "metadata": {},
     "output_type": "execute_result"
    }
   ],
   "source": [
    "A = [a + b for a in 10:10:100, b in 1:3 ]"
   ]
  },
  {
   "cell_type": "code",
   "execution_count": 2,
   "metadata": {},
   "outputs": [
    {
     "data": {
      "text/plain": [
       "Dict{Any,Any} with 3 entries:\n",
       "  \"Marco\" => 'M'\n",
       "  \"Alice\" => 'F'\n",
       "  \"Anne\"  => 'F'"
      ]
     },
     "execution_count": 2,
     "metadata": {},
     "output_type": "execute_result"
    }
   ],
   "source": [
    "names = [\"Anne\",\"Alice\",\"Marco\"]\n",
    "sexes = ['F','F','M']\n",
    "students = Dict()\n",
    "[students[name] = sex for (name,sex) in zip(names,sexes)] \n",
    "students"
   ]
  },
  {
   "cell_type": "code",
   "execution_count": null,
   "metadata": {
    "collapsed": true
   },
   "outputs": [],
   "source": []
  }
 ],
 "metadata": {
  "kernelspec": {
   "display_name": "Julia 1.2.0",
   "language": "julia",
   "name": "julia-1.2"
  },
  "language_info": {
   "file_extension": ".jl",
   "mimetype": "application/julia",
   "name": "julia",
   "version": "1.2.0"
  }
 },
 "nbformat": 4,
 "nbformat_minor": 1
}
